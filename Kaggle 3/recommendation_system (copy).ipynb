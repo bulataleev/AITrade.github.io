{
 "cells": [
  {
   "cell_type": "markdown",
   "metadata": {
    "collapsed": true
   },
   "source": [
    "# Transport Usage Prediction\n",
    "\n",
    "**Team Members**:\n",
    "- Timur Kasatkin\n",
    "- Artyom Valeev\n",
    "\n",
    "**Team name**: Like"
   ]
  },
  {
   "cell_type": "code",
   "execution_count": 1,
   "metadata": {
    "collapsed": false
   },
   "outputs": [
    {
     "name": "stdout",
     "output_type": "stream",
     "text": [
      "Populating the interactive namespace from numpy and matplotlib\n"
     ]
    }
   ],
   "source": [
    "%pylab inline"
   ]
  },
  {
   "cell_type": "code",
   "execution_count": 2,
   "metadata": {
    "collapsed": false
   },
   "outputs": [
    {
     "ename": "ImportError",
     "evalue": "No module named 'graphlab'",
     "output_type": "error",
     "traceback": [
      "\u001b[0;31m---------------------------------------------------------------------------\u001b[0m",
      "\u001b[0;31mImportError\u001b[0m                               Traceback (most recent call last)",
      "\u001b[0;32m<ipython-input-2-dd35a420f893>\u001b[0m in \u001b[0;36m<module>\u001b[0;34m()\u001b[0m\n\u001b[1;32m      3\u001b[0m \u001b[1;32mimport\u001b[0m \u001b[0mscipy\u001b[0m\u001b[1;33m\u001b[0m\u001b[0m\n\u001b[1;32m      4\u001b[0m \u001b[1;32mimport\u001b[0m \u001b[0mpandas\u001b[0m \u001b[1;32mas\u001b[0m \u001b[0mpd\u001b[0m\u001b[1;33m\u001b[0m\u001b[0m\n\u001b[0;32m----> 5\u001b[0;31m \u001b[1;32mimport\u001b[0m \u001b[0mgraphlab\u001b[0m\u001b[1;33m\u001b[0m\u001b[0m\n\u001b[0m\u001b[1;32m      6\u001b[0m \u001b[1;32mimport\u001b[0m \u001b[0mgraphlab\u001b[0m \u001b[1;32mas\u001b[0m \u001b[0mgl\u001b[0m\u001b[1;33m\u001b[0m\u001b[0m\n\u001b[1;32m      7\u001b[0m \u001b[1;32mimport\u001b[0m \u001b[0mscikits\u001b[0m\u001b[1;33m.\u001b[0m\u001b[0mcrab\u001b[0m\u001b[1;33m\u001b[0m\u001b[0m\n",
      "\u001b[0;31mImportError\u001b[0m: No module named 'graphlab'"
     ]
    }
   ],
   "source": [
    "import sklearn\n",
    "import sklearn as skl\n",
    "import scipy\n",
    "import pandas as pd\n",
    "import graphlab\n",
    "import graphlab as gl\n",
    "import scikits.crab"
   ]
  },
  {
   "cell_type": "markdown",
   "metadata": {},
   "source": [
    "# Data Preprocessing"
   ]
  },
  {
   "cell_type": "markdown",
   "metadata": {},
   "source": [
    "## Items"
   ]
  },
  {
   "cell_type": "code",
   "execution_count": 3,
   "metadata": {
    "collapsed": false,
    "scrolled": true
   },
   "outputs": [
    {
     "name": "stderr",
     "output_type": "stream",
     "text": [
      "/home/timur/dev_ides/anaconda3/envs/gl-env/lib/python2.7/site-packages/IPython/core/interactiveshell.py:2717: DtypeWarning: Columns (2) have mixed types. Specify dtype option on import or set low_memory=False.\n",
      "  interactivity=interactivity, compiler=compiler, result=result)\n"
     ]
    }
   ],
   "source": [
    "items_df = pd.read_csv('items.csv',encoding='cp1251')"
   ]
  },
  {
   "cell_type": "code",
   "execution_count": 4,
   "metadata": {
    "collapsed": false
   },
   "outputs": [
    {
     "data": {
      "text/plain": [
       "ItemId            int64\n",
       "CreatorId         int64\n",
       "Year             object\n",
       "DistributorId     int64\n",
       "dtype: object"
      ]
     },
     "execution_count": 4,
     "metadata": {},
     "output_type": "execute_result"
    }
   ],
   "source": [
    "items_df.dtypes"
   ]
  },
  {
   "cell_type": "code",
   "execution_count": 5,
   "metadata": {
    "collapsed": false,
    "scrolled": false
   },
   "outputs": [
    {
     "data": {
      "text/html": [
       "<div>\n",
       "<table border=\"1\" class=\"dataframe\">\n",
       "  <thead>\n",
       "    <tr style=\"text-align: right;\">\n",
       "      <th></th>\n",
       "      <th>ItemId</th>\n",
       "      <th>CreatorId</th>\n",
       "      <th>Year</th>\n",
       "      <th>DistributorId</th>\n",
       "    </tr>\n",
       "  </thead>\n",
       "  <tbody>\n",
       "    <tr>\n",
       "      <th>209398</th>\n",
       "      <td>266756</td>\n",
       "      <td>19311</td>\n",
       "      <td>DK Publishing Inc</td>\n",
       "      <td>12172</td>\n",
       "    </tr>\n",
       "    <tr>\n",
       "      <th>220500</th>\n",
       "      <td>77452</td>\n",
       "      <td>70208</td>\n",
       "      <td>Gallimard</td>\n",
       "      <td>9591</td>\n",
       "    </tr>\n",
       "    <tr>\n",
       "      <th>221447</th>\n",
       "      <td>214498</td>\n",
       "      <td>19311</td>\n",
       "      <td>DK Publishing Inc</td>\n",
       "      <td>638</td>\n",
       "    </tr>\n",
       "  </tbody>\n",
       "</table>\n",
       "</div>"
      ],
      "text/plain": [
       "        ItemId  CreatorId               Year  DistributorId\n",
       "209398  266756      19311  DK Publishing Inc          12172\n",
       "220500   77452      70208          Gallimard           9591\n",
       "221447  214498      19311  DK Publishing Inc            638"
      ]
     },
     "execution_count": 5,
     "metadata": {},
     "output_type": "execute_result"
    }
   ],
   "source": [
    "items_df[~items_df.Year.str.isnumeric().astype(bool)]"
   ]
  },
  {
   "cell_type": "code",
   "execution_count": 6,
   "metadata": {
    "collapsed": false
   },
   "outputs": [
    {
     "data": {
      "text/plain": [
       "count    270148.000000\n",
       "mean       1959.756293\n",
       "std         257.981613\n",
       "min           0.000000\n",
       "25%        1989.000000\n",
       "50%        1995.000000\n",
       "75%        2000.000000\n",
       "max        2050.000000\n",
       "Name: Year, dtype: float64"
      ]
     },
     "execution_count": 6,
     "metadata": {},
     "output_type": "execute_result"
    }
   ],
   "source": [
    "items_df[items_df.Year.str.isnumeric().astype(bool)].Year.astype(int).describe()"
   ]
  },
  {
   "cell_type": "markdown",
   "metadata": {},
   "source": [
    "## Users"
   ]
  },
  {
   "cell_type": "code",
   "execution_count": 125,
   "metadata": {
    "collapsed": false
   },
   "outputs": [],
   "source": [
    "users_df = pd.read_csv('users.csv',encoding='cp1251')"
   ]
  },
  {
   "cell_type": "code",
   "execution_count": 8,
   "metadata": {
    "collapsed": false
   },
   "outputs": [
    {
     "name": "stdout",
     "output_type": "stream",
     "text": [
      "<class 'pandas.core.frame.DataFrame'>\n",
      "RangeIndex: 92106 entries, 0 to 92105\n",
      "Data columns (total 3 columns):\n",
      "UserId      92106 non-null int64\n",
      "Location    92106 non-null object\n",
      "Age         53887 non-null float64\n",
      "dtypes: float64(1), int64(1), object(1)\n",
      "memory usage: 2.1+ MB\n"
     ]
    }
   ],
   "source": [
    "users_df.info()"
   ]
  },
  {
   "cell_type": "code",
   "execution_count": 9,
   "metadata": {
    "collapsed": false,
    "scrolled": true
   },
   "outputs": [
    {
     "data": {
      "text/plain": [
       "count    53887.000000\n",
       "mean        35.799711\n",
       "std         14.809379\n",
       "min          0.000000\n",
       "25%         25.000000\n",
       "50%         33.000000\n",
       "75%         45.000000\n",
       "max        244.000000\n",
       "Name: Age, dtype: float64"
      ]
     },
     "execution_count": 9,
     "metadata": {},
     "output_type": "execute_result"
    }
   ],
   "source": [
    "users_df.Age[users_df.Age.notnull()].describe()"
   ]
  },
  {
   "cell_type": "markdown",
   "metadata": {},
   "source": [
    "## Train"
   ]
  },
  {
   "cell_type": "code",
   "execution_count": 10,
   "metadata": {
    "collapsed": false,
    "scrolled": true
   },
   "outputs": [
    {
     "data": {
      "text/html": [
       "<div>\n",
       "<table border=\"1\" class=\"dataframe\">\n",
       "  <thead>\n",
       "    <tr style=\"text-align: right;\">\n",
       "      <th></th>\n",
       "      <th>UserId</th>\n",
       "      <th>ItemId</th>\n",
       "      <th>Rating</th>\n",
       "    </tr>\n",
       "  </thead>\n",
       "  <tbody>\n",
       "    <tr>\n",
       "      <th>0</th>\n",
       "      <td>25090</td>\n",
       "      <td>129111</td>\n",
       "      <td>0</td>\n",
       "    </tr>\n",
       "    <tr>\n",
       "      <th>1</th>\n",
       "      <td>69834</td>\n",
       "      <td>243724</td>\n",
       "      <td>5</td>\n",
       "    </tr>\n",
       "    <tr>\n",
       "      <th>2</th>\n",
       "      <td>12098</td>\n",
       "      <td>214334</td>\n",
       "      <td>0</td>\n",
       "    </tr>\n",
       "    <tr>\n",
       "      <th>3</th>\n",
       "      <td>27619</td>\n",
       "      <td>250230</td>\n",
       "      <td>3</td>\n",
       "    </tr>\n",
       "    <tr>\n",
       "      <th>4</th>\n",
       "      <td>27619</td>\n",
       "      <td>269206</td>\n",
       "      <td>6</td>\n",
       "    </tr>\n",
       "  </tbody>\n",
       "</table>\n",
       "</div>"
      ],
      "text/plain": [
       "   UserId  ItemId  Rating\n",
       "0   25090  129111       0\n",
       "1   69834  243724       5\n",
       "2   12098  214334       0\n",
       "3   27619  250230       3\n",
       "4   27619  269206       6"
      ]
     },
     "execution_count": 10,
     "metadata": {},
     "output_type": "execute_result"
    }
   ],
   "source": [
    "train_prefs_df = pd.read_csv('train_preferences.csv',encoding='cp1251')\n",
    "\n",
    "train_prefs_df.head()"
   ]
  },
  {
   "cell_type": "code",
   "execution_count": 11,
   "metadata": {
    "collapsed": false,
    "scrolled": false
   },
   "outputs": [
    {
     "data": {
      "text/plain": [
       "'Fraction of no mark provided: 0.660'"
      ]
     },
     "execution_count": 11,
     "metadata": {},
     "output_type": "execute_result"
    }
   ],
   "source": [
    "'Fraction of no mark provided: %.3f' % (float(train_prefs_df.Rating.value_counts()[0]) / len(train_prefs_df))"
   ]
  },
  {
   "cell_type": "code",
   "execution_count": 12,
   "metadata": {
    "collapsed": false
   },
   "outputs": [
    {
     "name": "stdout",
     "output_type": "stream",
     "text": [
      "92106 87909\n",
      "270151 262188\n"
     ]
    }
   ],
   "source": [
    "print len(users_df.UserId), len(train_prefs_df.UserId.unique())\n",
    "print len(items_df.ItemId), len(train_prefs_df.ItemId.unique())"
   ]
  },
  {
   "cell_type": "raw",
   "metadata": {
    "collapsed": true
   },
   "source": [
    "nu = train_prefs_df.Rating[train_prefs_df.Rating != 0].mean()\n",
    "\n",
    "user_items_dict = dict(map(lambda (userid,df): (userid, dict(map(lambda t: t[1:3], df.values))), \\\n",
    "                          train_prefs_df.groupby('UserId'))) #TODO no mark provided \n",
    "\n",
    "item_users_dict = dict(map(lambda (itemid,df): (itemid, dict(map(lambda t: (t[0], t[-1]), df.values))), \\\n",
    "                          train_prefs_df.groupby('ItemId'))) #TODO no mark provided\n",
    "\n",
    "b_u_dict = dict()\n",
    "b_i_dict = dict()\n",
    "\n",
    "def b_ui(user_id,item_id, alpha=0, beta=0):\n",
    "    bu = b_u_dict.setdefault(user_id, sum(user_items_dict[user_id].values()) / (len(user_items_dict[user_id]) + alpha))\n",
    "    bi = b_i_dict.setdefault(item_id, sum(item_users_dict[item_id].values()) / (len(item_users_dict[item_id]) + beta))\n",
    "    return nu + bu + bi"
   ]
  },
  {
   "cell_type": "raw",
   "metadata": {
    "collapsed": true
   },
   "source": [
    "normed_train_prefs_df = pd.DataFrame(columns=['UserId','ItemId','NormedRating'])\n",
    "\n",
    "for t in train_prefs_df.itertuples():#TODO no mark provided\n",
    "    normed_train_prefs_df.loc[t.Index] = (t.UserId, t.ItemId, t.Rating - b_ui(t.UserId, t.ItemId, 25, 25))"
   ]
  },
  {
   "cell_type": "raw",
   "metadata": {
    "collapsed": false,
    "scrolled": true
   },
   "source": [
    "normed_train_prefs_df"
   ]
  },
  {
   "cell_type": "markdown",
   "metadata": {},
   "source": [
    "## Test"
   ]
  },
  {
   "cell_type": "code",
   "execution_count": 13,
   "metadata": {
    "collapsed": false
   },
   "outputs": [
    {
     "data": {
      "text/html": [
       "<div>\n",
       "<table border=\"1\" class=\"dataframe\">\n",
       "  <thead>\n",
       "    <tr style=\"text-align: right;\">\n",
       "      <th></th>\n",
       "      <th>PairId</th>\n",
       "      <th>UserId</th>\n",
       "      <th>ItemId</th>\n",
       "    </tr>\n",
       "  </thead>\n",
       "  <tbody>\n",
       "    <tr>\n",
       "      <th>0</th>\n",
       "      <td>0</td>\n",
       "      <td>4345</td>\n",
       "      <td>188337</td>\n",
       "    </tr>\n",
       "    <tr>\n",
       "      <th>1</th>\n",
       "      <td>1</td>\n",
       "      <td>58014</td>\n",
       "      <td>164371</td>\n",
       "    </tr>\n",
       "    <tr>\n",
       "      <th>2</th>\n",
       "      <td>2</td>\n",
       "      <td>46806</td>\n",
       "      <td>172416</td>\n",
       "    </tr>\n",
       "    <tr>\n",
       "      <th>3</th>\n",
       "      <td>3</td>\n",
       "      <td>57654</td>\n",
       "      <td>130724</td>\n",
       "    </tr>\n",
       "    <tr>\n",
       "      <th>4</th>\n",
       "      <td>4</td>\n",
       "      <td>5927</td>\n",
       "      <td>63169</td>\n",
       "    </tr>\n",
       "  </tbody>\n",
       "</table>\n",
       "</div>"
      ],
      "text/plain": [
       "   PairId  UserId  ItemId\n",
       "0       0    4345  188337\n",
       "1       1   58014  164371\n",
       "2       2   46806  172416\n",
       "3       3   57654  130724\n",
       "4       4    5927   63169"
      ]
     },
     "execution_count": 13,
     "metadata": {},
     "output_type": "execute_result"
    }
   ],
   "source": [
    "test_prefs_df = pd.read_csv('test_preferences.csv',encoding='cp1251')\n",
    "\n",
    "test_prefs_df.head()"
   ]
  },
  {
   "cell_type": "markdown",
   "metadata": {},
   "source": [
    "# Model evaluation"
   ]
  },
  {
   "cell_type": "markdown",
   "metadata": {},
   "source": [
    "## Graphlab"
   ]
  },
  {
   "cell_type": "code",
   "execution_count": 14,
   "metadata": {
    "collapsed": true
   },
   "outputs": [],
   "source": [
    "def folds(sf,n_splits=5):\n",
    "    for i in range(0,n_splits):\n",
    "        yield sf.random_split(1 - float(1)/n_splits)\n",
    "\n",
    "def cross_val_scores(model_factory,sf,n_splits=10, target='Rating', return_mean=True, verbose=True):\n",
    "    results = []\n",
    "    for i, (train_sf, test_sf) in enumerate(folds(sf,n_splits)):\n",
    "        results.append(model_factory(train_sf).evaluate_rmse(test_sf, target)['rmse_overall'])\n",
    "        if verbose:\n",
    "            print 'Iteration %d: RMSE = %f' % (i, results[-1])\n",
    "    return return_mean and np.mean(results) or results"
   ]
  },
  {
   "cell_type": "code",
   "execution_count": 15,
   "metadata": {
    "collapsed": false
   },
   "outputs": [
    {
     "name": "stdout",
     "output_type": "stream",
     "text": [
      "This non-commercial license of GraphLab Create for academic use is assigned to t.kasatkin@innopolis.ru and will expire on October 17, 2017.\n"
     ]
    },
    {
     "name": "stderr",
     "output_type": "stream",
     "text": [
      "[INFO] graphlab.cython.cy_server: GraphLab Create v2.1 started. Logging: /tmp/graphlab_server_1477226762.log\n"
     ]
    }
   ],
   "source": [
    "train_prefs_sf = graphlab.SFrame(train_prefs_df)\n",
    "train_provided_sf = train_prefs_sf[train_prefs_sf['Rating'] != 0]"
   ]
  },
  {
   "cell_type": "markdown",
   "metadata": {},
   "source": [
    "### Feature selection"
   ]
  },
  {
   "cell_type": "code",
   "execution_count": 18,
   "metadata": {
    "collapsed": false
   },
   "outputs": [
    {
     "data": {
      "text/html": [
       "<pre>Recsys training: model = factorization_recommender</pre>"
      ],
      "text/plain": [
       "Recsys training: model = factorization_recommender"
      ]
     },
     "metadata": {},
     "output_type": "display_data"
    },
    {
     "data": {
      "text/html": [
       "<pre>Recsys training: model = factorization_recommender</pre>"
      ],
      "text/plain": [
       "Recsys training: model = factorization_recommender"
      ]
     },
     "metadata": {},
     "output_type": "display_data"
    },
    {
     "data": {
      "text/html": [
       "<pre>Recsys training: model = factorization_recommender</pre>"
      ],
      "text/plain": [
       "Recsys training: model = factorization_recommender"
      ]
     },
     "metadata": {},
     "output_type": "display_data"
    },
    {
     "data": {
      "text/html": [
       "<pre>Recsys training: model = factorization_recommender</pre>"
      ],
      "text/plain": [
       "Recsys training: model = factorization_recommender"
      ]
     },
     "metadata": {},
     "output_type": "display_data"
    },
    {
     "data": {
      "text/html": [
       "<pre>Recsys training: model = factorization_recommender</pre>"
      ],
      "text/plain": [
       "Recsys training: model = factorization_recommender"
      ]
     },
     "metadata": {},
     "output_type": "display_data"
    },
    {
     "data": {
      "text/plain": [
       "1.7607451560000988"
      ]
     },
     "execution_count": 18,
     "metadata": {},
     "output_type": "execute_result"
    }
   ],
   "source": [
    "cross_val_scores(lambda train_sf:\\\n",
    "                gl.factorization_recommender.create(train_sf, user_id='UserId', item_id='ItemId', target='Rating', verbose=False, \n",
    "                                            num_factors=3,\n",
    "                                            max_iterations=70,\n",
    "                                            solver='sgd',\n",
    "                                            sgd_step_size=0,\n",
    "                                            side_data_factorization=True,\n",
    "                                            regularization_type='weighted',\n",
    "                                            linear_regularization=0.758620689655,\n",
    "                                            regularization=0.413793103449,\n",
    "                                            ), train_provided_sf, 5, verbose=False)"
   ]
  },
  {
   "cell_type": "markdown",
   "metadata": {},
   "source": [
    "#### Users"
   ]
  },
  {
   "cell_type": "markdown",
   "metadata": {},
   "source": [
    "##### Age"
   ]
  },
  {
   "cell_type": "code",
   "execution_count": 35,
   "metadata": {
    "collapsed": false
   },
   "outputs": [
    {
     "data": {
      "text/html": [
       "<pre>Recsys training: model = factorization_recommender</pre>"
      ],
      "text/plain": [
       "Recsys training: model = factorization_recommender"
      ]
     },
     "metadata": {},
     "output_type": "display_data"
    },
    {
     "data": {
      "text/html": [
       "<pre>Recsys training: model = factorization_recommender</pre>"
      ],
      "text/plain": [
       "Recsys training: model = factorization_recommender"
      ]
     },
     "metadata": {},
     "output_type": "display_data"
    },
    {
     "data": {
      "text/html": [
       "<pre>Recsys training: model = factorization_recommender</pre>"
      ],
      "text/plain": [
       "Recsys training: model = factorization_recommender"
      ]
     },
     "metadata": {},
     "output_type": "display_data"
    },
    {
     "data": {
      "text/html": [
       "<pre>Recsys training: model = factorization_recommender</pre>"
      ],
      "text/plain": [
       "Recsys training: model = factorization_recommender"
      ]
     },
     "metadata": {},
     "output_type": "display_data"
    },
    {
     "data": {
      "text/html": [
       "<pre>Recsys training: model = factorization_recommender</pre>"
      ],
      "text/plain": [
       "Recsys training: model = factorization_recommender"
      ]
     },
     "metadata": {},
     "output_type": "display_data"
    },
    {
     "data": {
      "text/plain": [
       "1.6801152909604262"
      ]
     },
     "execution_count": 35,
     "metadata": {},
     "output_type": "execute_result"
    }
   ],
   "source": [
    "exp_user_df = users_df.copy()\n",
    "\n",
    "exp_user_df.Age.fillna(exp_user_df.Age.median(),inplace=True)\n",
    "\n",
    "cross_val_scores(lambda train_sf:\\\n",
    "                gl.factorization_recommender.create(train_sf, user_id='UserId', item_id='ItemId', target='Rating', verbose=False,\n",
    "                                                    user_data=graphlab.SFrame(exp_user_df), \n",
    "                                                    num_factors=3,\n",
    "                                                    max_iterations=70,\n",
    "                                                    solver='sgd',\n",
    "                                                    sgd_step_size=0,\n",
    "                                                    side_data_factorization=True,\n",
    "                                                    regularization_type='weighted',\n",
    "                                                    linear_regularization=0.758620689655,\n",
    "                                                    regularization=0.413793103449,\n",
    "                                                    ), train_provided_sf, 5, verbose=False)"
   ]
  },
  {
   "cell_type": "code",
   "execution_count": 36,
   "metadata": {
    "collapsed": false
   },
   "outputs": [
    {
     "data": {
      "text/html": [
       "<pre>Recsys training: model = factorization_recommender</pre>"
      ],
      "text/plain": [
       "Recsys training: model = factorization_recommender"
      ]
     },
     "metadata": {},
     "output_type": "display_data"
    },
    {
     "data": {
      "text/html": [
       "<pre>Recsys training: model = factorization_recommender</pre>"
      ],
      "text/plain": [
       "Recsys training: model = factorization_recommender"
      ]
     },
     "metadata": {},
     "output_type": "display_data"
    },
    {
     "data": {
      "text/html": [
       "<pre>Recsys training: model = factorization_recommender</pre>"
      ],
      "text/plain": [
       "Recsys training: model = factorization_recommender"
      ]
     },
     "metadata": {},
     "output_type": "display_data"
    },
    {
     "data": {
      "text/html": [
       "<pre>Recsys training: model = factorization_recommender</pre>"
      ],
      "text/plain": [
       "Recsys training: model = factorization_recommender"
      ]
     },
     "metadata": {},
     "output_type": "display_data"
    },
    {
     "data": {
      "text/html": [
       "<pre>Recsys training: model = factorization_recommender</pre>"
      ],
      "text/plain": [
       "Recsys training: model = factorization_recommender"
      ]
     },
     "metadata": {},
     "output_type": "display_data"
    },
    {
     "data": {
      "text/plain": [
       "1.6804037204537667"
      ]
     },
     "execution_count": 36,
     "metadata": {},
     "output_type": "execute_result"
    }
   ],
   "source": [
    "exp_user_df = users_df.copy()\n",
    "\n",
    "exp_user_df.Age.fillna(exp_user_df.Age.mean(),inplace=True)\n",
    "\n",
    "cross_val_scores(lambda train_sf:\\\n",
    "                gl.factorization_recommender.create(train_sf, user_id='UserId', item_id='ItemId', target='Rating', verbose=False,\n",
    "                                                    user_data=graphlab.SFrame(exp_user_df), \n",
    "                                                    num_factors=3,\n",
    "                                                    max_iterations=70,\n",
    "                                                    solver='sgd',\n",
    "                                                    sgd_step_size=0,\n",
    "                                                    side_data_factorization=True,\n",
    "                                                    regularization_type='weighted',\n",
    "                                                    linear_regularization=0.758620689655,\n",
    "                                                    regularization=0.413793103449,\n",
    "                                                    ), train_provided_sf, 5, verbose=False)"
   ]
  },
  {
   "cell_type": "code",
   "execution_count": 37,
   "metadata": {
    "collapsed": false
   },
   "outputs": [
    {
     "data": {
      "text/html": [
       "<pre>Recsys training: model = factorization_recommender</pre>"
      ],
      "text/plain": [
       "Recsys training: model = factorization_recommender"
      ]
     },
     "metadata": {},
     "output_type": "display_data"
    },
    {
     "data": {
      "text/html": [
       "<pre>Recsys training: model = factorization_recommender</pre>"
      ],
      "text/plain": [
       "Recsys training: model = factorization_recommender"
      ]
     },
     "metadata": {},
     "output_type": "display_data"
    },
    {
     "data": {
      "text/html": [
       "<pre>Recsys training: model = factorization_recommender</pre>"
      ],
      "text/plain": [
       "Recsys training: model = factorization_recommender"
      ]
     },
     "metadata": {},
     "output_type": "display_data"
    },
    {
     "data": {
      "text/html": [
       "<pre>Recsys training: model = factorization_recommender</pre>"
      ],
      "text/plain": [
       "Recsys training: model = factorization_recommender"
      ]
     },
     "metadata": {},
     "output_type": "display_data"
    },
    {
     "data": {
      "text/html": [
       "<pre>Recsys training: model = factorization_recommender</pre>"
      ],
      "text/plain": [
       "Recsys training: model = factorization_recommender"
      ]
     },
     "metadata": {},
     "output_type": "display_data"
    },
    {
     "data": {
      "text/plain": [
       "1.758741722849392"
      ]
     },
     "execution_count": 37,
     "metadata": {},
     "output_type": "execute_result"
    }
   ],
   "source": [
    "cross_val_scores(lambda train_sf:\\\n",
    "                gl.factorization_recommender.create(train_sf, user_id='UserId', item_id='ItemId', target='Rating', verbose=False,\n",
    "                                                    user_data=graphlab.SFrame(users_df.copy().drop('Age',axis=1)), \n",
    "                                                    num_factors=3,\n",
    "                                                    max_iterations=70,\n",
    "                                                    solver='sgd',\n",
    "                                                    sgd_step_size=0,\n",
    "                                                    side_data_factorization=True,\n",
    "                                                    regularization_type='weighted',\n",
    "                                                    linear_regularization=0.758620689655,\n",
    "                                                    regularization=0.413793103449,\n",
    "                                                    ), train_provided_sf, 5, verbose=False)"
   ]
  },
  {
   "cell_type": "code",
   "execution_count": 126,
   "metadata": {
    "collapsed": true
   },
   "outputs": [],
   "source": [
    "users_df.Age = users_df.Age.fillna(users_df.Age.mean())"
   ]
  },
  {
   "cell_type": "markdown",
   "metadata": {},
   "source": [
    "##### Location"
   ]
  },
  {
   "cell_type": "code",
   "execution_count": 50,
   "metadata": {
    "collapsed": false
   },
   "outputs": [
    {
     "data": {
      "text/html": [
       "<pre>Recsys training: model = factorization_recommender</pre>"
      ],
      "text/plain": [
       "Recsys training: model = factorization_recommender"
      ]
     },
     "metadata": {},
     "output_type": "display_data"
    },
    {
     "data": {
      "text/html": [
       "<pre>Recsys training: model = factorization_recommender</pre>"
      ],
      "text/plain": [
       "Recsys training: model = factorization_recommender"
      ]
     },
     "metadata": {},
     "output_type": "display_data"
    },
    {
     "data": {
      "text/html": [
       "<pre>Recsys training: model = factorization_recommender</pre>"
      ],
      "text/plain": [
       "Recsys training: model = factorization_recommender"
      ]
     },
     "metadata": {},
     "output_type": "display_data"
    },
    {
     "data": {
      "text/html": [
       "<pre>Recsys training: model = factorization_recommender</pre>"
      ],
      "text/plain": [
       "Recsys training: model = factorization_recommender"
      ]
     },
     "metadata": {},
     "output_type": "display_data"
    },
    {
     "data": {
      "text/html": [
       "<pre>Recsys training: model = factorization_recommender</pre>"
      ],
      "text/plain": [
       "Recsys training: model = factorization_recommender"
      ]
     },
     "metadata": {},
     "output_type": "display_data"
    },
    {
     "data": {
      "text/plain": [
       "1.6791922408287774"
      ]
     },
     "execution_count": 50,
     "metadata": {},
     "output_type": "execute_result"
    }
   ],
   "source": [
    "exp_user_df = users_df.copy()\n",
    "\n",
    "cross_val_scores(lambda train_sf:\\\n",
    "                gl.factorization_recommender.create(train_sf, user_id='UserId', item_id='ItemId', target='Rating', verbose=False,\n",
    "                                                    user_data=graphlab.SFrame(exp_user_df), \n",
    "                                                    num_factors=3,\n",
    "                                                    max_iterations=70,\n",
    "                                                    solver='sgd',\n",
    "                                                    sgd_step_size=0,\n",
    "                                                    side_data_factorization=True,\n",
    "                                                    regularization_type='weighted',\n",
    "                                                    linear_regularization=0.758620689655,\n",
    "                                                    regularization=0.413793103449,\n",
    "                                                    ), train_provided_sf, 5, verbose=False)"
   ]
  },
  {
   "cell_type": "code",
   "execution_count": 53,
   "metadata": {
    "collapsed": false
   },
   "outputs": [
    {
     "data": {
      "text/html": [
       "<pre>Recsys training: model = factorization_recommender</pre>"
      ],
      "text/plain": [
       "Recsys training: model = factorization_recommender"
      ]
     },
     "metadata": {},
     "output_type": "display_data"
    },
    {
     "data": {
      "text/html": [
       "<pre>Recsys training: model = factorization_recommender</pre>"
      ],
      "text/plain": [
       "Recsys training: model = factorization_recommender"
      ]
     },
     "metadata": {},
     "output_type": "display_data"
    },
    {
     "data": {
      "text/html": [
       "<pre>Recsys training: model = factorization_recommender</pre>"
      ],
      "text/plain": [
       "Recsys training: model = factorization_recommender"
      ]
     },
     "metadata": {},
     "output_type": "display_data"
    },
    {
     "data": {
      "text/html": [
       "<pre>Recsys training: model = factorization_recommender</pre>"
      ],
      "text/plain": [
       "Recsys training: model = factorization_recommender"
      ]
     },
     "metadata": {},
     "output_type": "display_data"
    },
    {
     "data": {
      "text/html": [
       "<pre>Recsys training: model = factorization_recommender</pre>"
      ],
      "text/plain": [
       "Recsys training: model = factorization_recommender"
      ]
     },
     "metadata": {},
     "output_type": "display_data"
    },
    {
     "data": {
      "text/html": [
       "<pre>Recsys training: model = factorization_recommender</pre>"
      ],
      "text/plain": [
       "Recsys training: model = factorization_recommender"
      ]
     },
     "metadata": {},
     "output_type": "display_data"
    },
    {
     "data": {
      "text/html": [
       "<pre>Recsys training: model = factorization_recommender</pre>"
      ],
      "text/plain": [
       "Recsys training: model = factorization_recommender"
      ]
     },
     "metadata": {},
     "output_type": "display_data"
    },
    {
     "data": {
      "text/html": [
       "<pre>Recsys training: model = factorization_recommender</pre>"
      ],
      "text/plain": [
       "Recsys training: model = factorization_recommender"
      ]
     },
     "metadata": {},
     "output_type": "display_data"
    },
    {
     "data": {
      "text/html": [
       "<pre>Recsys training: model = factorization_recommender</pre>"
      ],
      "text/plain": [
       "Recsys training: model = factorization_recommender"
      ]
     },
     "metadata": {},
     "output_type": "display_data"
    },
    {
     "data": {
      "text/html": [
       "<pre>Recsys training: model = factorization_recommender</pre>"
      ],
      "text/plain": [
       "Recsys training: model = factorization_recommender"
      ]
     },
     "metadata": {},
     "output_type": "display_data"
    },
    {
     "data": {
      "text/plain": [
       "1.642067073649627"
      ]
     },
     "execution_count": 53,
     "metadata": {},
     "output_type": "execute_result"
    }
   ],
   "source": [
    "exp_user_df = users_df.copy()\n",
    "\n",
    "users_locs_df = exp_user_df.Location.apply(lambda l: pd.Series(l.split(',')), 1)\n",
    "\n",
    "users_locs_df.rename(columns={0:'City',1:'Province',2:'Country'},inplace=True)\n",
    "\n",
    "users_locs_df.City = users_locs_df.City.str.strip()\n",
    "users_locs_df.Province = users_locs_df.Province.str.strip()\n",
    "users_locs_df.Country = users_locs_df.Country.str.strip()\n",
    "\n",
    "users_locs_df = users_locs_df[['City','Province','Country']].replace('','n/a')\n",
    "\n",
    "exp_user_df = pd.concat([exp_user_df,users_locs_df],1)\n",
    "del exp_user_df['Location']\n",
    "\n",
    "cross_val_scores(lambda train_sf:\\\n",
    "                gl.factorization_recommender.create(train_sf, user_id='UserId', item_id='ItemId', target='Rating', verbose=False,\n",
    "                                                    user_data=graphlab.SFrame(exp_user_df), \n",
    "                                                    num_factors=3,\n",
    "                                                    max_iterations=70,\n",
    "                                                    solver='sgd',\n",
    "                                                    sgd_step_size=0,\n",
    "                                                    side_data_factorization=True,\n",
    "                                                    regularization_type='weighted',\n",
    "                                                    linear_regularization=0.758620689655,\n",
    "                                                    regularization=0.413793103449,\n",
    "                                                    ), train_provided_sf, 10, verbose=False)"
   ]
  },
  {
   "cell_type": "code",
   "execution_count": 54,
   "metadata": {
    "collapsed": false
   },
   "outputs": [
    {
     "data": {
      "text/html": [
       "<pre>Recsys training: model = factorization_recommender</pre>"
      ],
      "text/plain": [
       "Recsys training: model = factorization_recommender"
      ]
     },
     "metadata": {},
     "output_type": "display_data"
    },
    {
     "data": {
      "text/html": [
       "<pre>Recsys training: model = factorization_recommender</pre>"
      ],
      "text/plain": [
       "Recsys training: model = factorization_recommender"
      ]
     },
     "metadata": {},
     "output_type": "display_data"
    },
    {
     "data": {
      "text/html": [
       "<pre>Recsys training: model = factorization_recommender</pre>"
      ],
      "text/plain": [
       "Recsys training: model = factorization_recommender"
      ]
     },
     "metadata": {},
     "output_type": "display_data"
    },
    {
     "data": {
      "text/html": [
       "<pre>Recsys training: model = factorization_recommender</pre>"
      ],
      "text/plain": [
       "Recsys training: model = factorization_recommender"
      ]
     },
     "metadata": {},
     "output_type": "display_data"
    },
    {
     "data": {
      "text/html": [
       "<pre>Recsys training: model = factorization_recommender</pre>"
      ],
      "text/plain": [
       "Recsys training: model = factorization_recommender"
      ]
     },
     "metadata": {},
     "output_type": "display_data"
    },
    {
     "data": {
      "text/html": [
       "<pre>Recsys training: model = factorization_recommender</pre>"
      ],
      "text/plain": [
       "Recsys training: model = factorization_recommender"
      ]
     },
     "metadata": {},
     "output_type": "display_data"
    },
    {
     "data": {
      "text/html": [
       "<pre>Recsys training: model = factorization_recommender</pre>"
      ],
      "text/plain": [
       "Recsys training: model = factorization_recommender"
      ]
     },
     "metadata": {},
     "output_type": "display_data"
    },
    {
     "data": {
      "text/html": [
       "<pre>Recsys training: model = factorization_recommender</pre>"
      ],
      "text/plain": [
       "Recsys training: model = factorization_recommender"
      ]
     },
     "metadata": {},
     "output_type": "display_data"
    },
    {
     "data": {
      "text/html": [
       "<pre>Recsys training: model = factorization_recommender</pre>"
      ],
      "text/plain": [
       "Recsys training: model = factorization_recommender"
      ]
     },
     "metadata": {},
     "output_type": "display_data"
    },
    {
     "data": {
      "text/html": [
       "<pre>Recsys training: model = factorization_recommender</pre>"
      ],
      "text/plain": [
       "Recsys training: model = factorization_recommender"
      ]
     },
     "metadata": {},
     "output_type": "display_data"
    },
    {
     "data": {
      "text/plain": [
       "1.6395989204386658"
      ]
     },
     "execution_count": 54,
     "metadata": {},
     "output_type": "execute_result"
    }
   ],
   "source": [
    "exp_user_df = users_df.copy()\n",
    "\n",
    "users_locs_df = exp_user_df.Location.apply(lambda l: pd.Series(l.split(',')), 1)\n",
    "\n",
    "users_locs_df.rename(columns={0:'City',1:'Province',2:'Country'},inplace=True)\n",
    "\n",
    "users_locs_df.City = users_locs_df.City.str.strip()\n",
    "users_locs_df.Province = users_locs_df.Province.str.strip()\n",
    "users_locs_df.Country = users_locs_df.Country.str.strip()\n",
    "\n",
    "users_locs_df = users_locs_df[['City','Province','Country']].replace('n/a','')\n",
    "\n",
    "exp_user_df = pd.concat([exp_user_df,users_locs_df],1)\n",
    "del exp_user_df['Location']\n",
    "\n",
    "cross_val_scores(lambda train_sf:\\\n",
    "                gl.factorization_recommender.create(train_sf, user_id='UserId', item_id='ItemId', target='Rating', verbose=False,\n",
    "                                                    user_data=graphlab.SFrame(exp_user_df), \n",
    "                                                    num_factors=3,\n",
    "                                                    max_iterations=70,\n",
    "                                                    solver='sgd',\n",
    "                                                    sgd_step_size=0,\n",
    "                                                    side_data_factorization=True,\n",
    "                                                    regularization_type='weighted',\n",
    "                                                    linear_regularization=0.758620689655,\n",
    "                                                    regularization=0.413793103449,\n",
    "                                                    ), train_provided_sf, 10, verbose=False)"
   ]
  },
  {
   "cell_type": "code",
   "execution_count": 127,
   "metadata": {
    "collapsed": true
   },
   "outputs": [],
   "source": [
    "users_locs_df = users_df.Location.apply(lambda l: pd.Series(l.split(',')), 1)\n",
    "\n",
    "users_locs_df.rename(columns={0:'City',1:'Province',2:'Country'},inplace=True)\n",
    "\n",
    "users_locs_df.City = users_locs_df.City.str.strip()\n",
    "users_locs_df.Province = users_locs_df.Province.str.strip()\n",
    "users_locs_df.Country = users_locs_df.Country.str.strip()\n",
    "\n",
    "users_locs_df = users_locs_df[['City','Province','Country']].replace('n/a','')\n",
    "\n",
    "users_df = pd.concat([users_df,users_locs_df],1)\n",
    "\n",
    "del users_df['Location']"
   ]
  },
  {
   "cell_type": "markdown",
   "metadata": {},
   "source": [
    "##### Result"
   ]
  },
  {
   "cell_type": "markdown",
   "metadata": {},
   "source": [
    "**Profit**:\n",
    "- filling age with median or mean\n",
    "- splitting location into separate features with stripping all values and replace 'n/a' with empty string"
   ]
  },
  {
   "cell_type": "markdown",
   "metadata": {},
   "source": [
    "**Bad**:\n",
    "   - removing Age from users"
   ]
  },
  {
   "cell_type": "code",
   "execution_count": 123,
   "metadata": {
    "collapsed": false
   },
   "outputs": [
    {
     "data": {
      "text/html": [
       "<div>\n",
       "<table border=\"1\" class=\"dataframe\">\n",
       "  <thead>\n",
       "    <tr style=\"text-align: right;\">\n",
       "      <th></th>\n",
       "      <th>UserId</th>\n",
       "      <th>Age</th>\n",
       "      <th>City</th>\n",
       "      <th>Province</th>\n",
       "      <th>Country</th>\n",
       "    </tr>\n",
       "  </thead>\n",
       "  <tbody>\n",
       "    <tr>\n",
       "      <th>0</th>\n",
       "      <td>4173</td>\n",
       "      <td>18</td>\n",
       "      <td>stockton</td>\n",
       "      <td>california</td>\n",
       "      <td>usa</td>\n",
       "    </tr>\n",
       "    <tr>\n",
       "      <th>1</th>\n",
       "      <td>26211</td>\n",
       "      <td>35</td>\n",
       "      <td>timmins</td>\n",
       "      <td>ontario</td>\n",
       "      <td>canada</td>\n",
       "    </tr>\n",
       "    <tr>\n",
       "      <th>2</th>\n",
       "      <td>74836</td>\n",
       "      <td>35</td>\n",
       "      <td>germantown</td>\n",
       "      <td>tennessee</td>\n",
       "      <td>usa</td>\n",
       "    </tr>\n",
       "    <tr>\n",
       "      <th>3</th>\n",
       "      <td>40801</td>\n",
       "      <td>26</td>\n",
       "      <td>albacete</td>\n",
       "      <td>wisconsin</td>\n",
       "      <td>spain</td>\n",
       "    </tr>\n",
       "    <tr>\n",
       "      <th>4</th>\n",
       "      <td>41937</td>\n",
       "      <td>35</td>\n",
       "      <td>fort bragg</td>\n",
       "      <td>california</td>\n",
       "      <td>usa</td>\n",
       "    </tr>\n",
       "  </tbody>\n",
       "</table>\n",
       "</div>"
      ],
      "text/plain": [
       "   UserId  Age        City    Province Country\n",
       "0    4173   18    stockton  california     usa\n",
       "1   26211   35     timmins     ontario  canada\n",
       "2   74836   35  germantown   tennessee     usa\n",
       "3   40801   26    albacete   wisconsin   spain\n",
       "4   41937   35  fort bragg  california     usa"
      ]
     },
     "execution_count": 123,
     "metadata": {},
     "output_type": "execute_result"
    }
   ],
   "source": [
    "users_df.head()"
   ]
  },
  {
   "cell_type": "markdown",
   "metadata": {
    "heading_collapsed": true
   },
   "source": [
    "#### Items"
   ]
  },
  {
   "cell_type": "code",
   "execution_count": 68,
   "metadata": {
    "collapsed": true,
    "hidden": true
   },
   "outputs": [],
   "source": [
    "def items_cross_val_scores(item_data, n_splits=5):\n",
    "    return cross_val_scores(lambda train_sf:\\\n",
    "                            gl.factorization_recommender.create(train_sf, user_id='UserId', item_id='ItemId', target='Rating', verbose=False,\n",
    "                                                                item_data=item_data,\n",
    "                                                                num_factors=3,\n",
    "                                                                max_iterations=70,\n",
    "                                                                solver='sgd',\n",
    "                                                                sgd_step_size=0,\n",
    "                                                                side_data_factorization=True,\n",
    "                                                                regularization_type='weighted',\n",
    "                                                                linear_regularization=0.758620689655,\n",
    "                                                                regularization=0.413793103449,\n",
    "                                                                ), train_provided_sf, n_splits, verbose=False)"
   ]
  },
  {
   "cell_type": "code",
   "execution_count": 60,
   "metadata": {
    "collapsed": false,
    "hidden": true,
    "scrolled": true
   },
   "outputs": [
    {
     "data": {
      "text/html": [
       "<div>\n",
       "<table border=\"1\" class=\"dataframe\">\n",
       "  <thead>\n",
       "    <tr style=\"text-align: right;\">\n",
       "      <th></th>\n",
       "      <th>ItemId</th>\n",
       "      <th>CreatorId</th>\n",
       "      <th>Year</th>\n",
       "      <th>DistributorId</th>\n",
       "    </tr>\n",
       "  </thead>\n",
       "  <tbody>\n",
       "    <tr>\n",
       "      <th>0</th>\n",
       "      <td>121781</td>\n",
       "      <td>48864</td>\n",
       "      <td>2002</td>\n",
       "      <td>12008</td>\n",
       "    </tr>\n",
       "    <tr>\n",
       "      <th>1</th>\n",
       "      <td>106984</td>\n",
       "      <td>80902</td>\n",
       "      <td>2001</td>\n",
       "      <td>1409</td>\n",
       "    </tr>\n",
       "    <tr>\n",
       "      <th>2</th>\n",
       "      <td>2874</td>\n",
       "      <td>13251</td>\n",
       "      <td>1991</td>\n",
       "      <td>5225</td>\n",
       "    </tr>\n",
       "  </tbody>\n",
       "</table>\n",
       "</div>"
      ],
      "text/plain": [
       "   ItemId  CreatorId  Year  DistributorId\n",
       "0  121781      48864  2002          12008\n",
       "1  106984      80902  2001           1409\n",
       "2    2874      13251  1991           5225"
      ]
     },
     "execution_count": 60,
     "metadata": {},
     "output_type": "execute_result"
    }
   ],
   "source": [
    "items_df.head(3)"
   ]
  },
  {
   "cell_type": "code",
   "execution_count": 61,
   "metadata": {
    "collapsed": false,
    "hidden": true,
    "scrolled": true
   },
   "outputs": [
    {
     "name": "stdout",
     "output_type": "stream",
     "text": [
      "<class 'pandas.core.frame.DataFrame'>\n",
      "RangeIndex: 270151 entries, 0 to 270150\n",
      "Data columns (total 4 columns):\n",
      "ItemId           270151 non-null int64\n",
      "CreatorId        270151 non-null int64\n",
      "Year             270151 non-null object\n",
      "DistributorId    270151 non-null int64\n",
      "dtypes: int64(3), object(1)\n",
      "memory usage: 8.2+ MB\n"
     ]
    }
   ],
   "source": [
    "items_df.info()"
   ]
  },
  {
   "cell_type": "markdown",
   "metadata": {
    "heading_collapsed": true,
    "hidden": true
   },
   "source": [
    "##### Year"
   ]
  },
  {
   "cell_type": "code",
   "execution_count": 69,
   "metadata": {
    "collapsed": false,
    "hidden": true,
    "scrolled": false
   },
   "outputs": [
    {
     "data": {
      "text/html": [
       "<pre>Recsys training: model = factorization_recommender</pre>"
      ],
      "text/plain": [
       "Recsys training: model = factorization_recommender"
      ]
     },
     "metadata": {},
     "output_type": "display_data"
    },
    {
     "data": {
      "text/html": [
       "<pre>Recsys training: model = factorization_recommender</pre>"
      ],
      "text/plain": [
       "Recsys training: model = factorization_recommender"
      ]
     },
     "metadata": {},
     "output_type": "display_data"
    },
    {
     "data": {
      "text/html": [
       "<pre>Recsys training: model = factorization_recommender</pre>"
      ],
      "text/plain": [
       "Recsys training: model = factorization_recommender"
      ]
     },
     "metadata": {},
     "output_type": "display_data"
    },
    {
     "data": {
      "text/html": [
       "<pre>Recsys training: model = factorization_recommender</pre>"
      ],
      "text/plain": [
       "Recsys training: model = factorization_recommender"
      ]
     },
     "metadata": {},
     "output_type": "display_data"
    },
    {
     "data": {
      "text/html": [
       "<pre>Recsys training: model = factorization_recommender</pre>"
      ],
      "text/plain": [
       "Recsys training: model = factorization_recommender"
      ]
     },
     "metadata": {},
     "output_type": "display_data"
    },
    {
     "data": {
      "text/plain": [
       "1.6427693962686576"
      ]
     },
     "execution_count": 69,
     "metadata": {},
     "output_type": "execute_result"
    }
   ],
   "source": [
    "items_cross_val_scores(gl.SFrame(items_df.drop('Year',1)))"
   ]
  },
  {
   "cell_type": "code",
   "execution_count": 70,
   "metadata": {
    "collapsed": false,
    "hidden": true
   },
   "outputs": [
    {
     "data": {
      "text/html": [
       "<pre>Recsys training: model = factorization_recommender</pre>"
      ],
      "text/plain": [
       "Recsys training: model = factorization_recommender"
      ]
     },
     "metadata": {},
     "output_type": "display_data"
    },
    {
     "data": {
      "text/html": [
       "<pre>Recsys training: model = factorization_recommender</pre>"
      ],
      "text/plain": [
       "Recsys training: model = factorization_recommender"
      ]
     },
     "metadata": {},
     "output_type": "display_data"
    },
    {
     "data": {
      "text/html": [
       "<pre>Recsys training: model = factorization_recommender</pre>"
      ],
      "text/plain": [
       "Recsys training: model = factorization_recommender"
      ]
     },
     "metadata": {},
     "output_type": "display_data"
    },
    {
     "data": {
      "text/html": [
       "<pre>Recsys training: model = factorization_recommender</pre>"
      ],
      "text/plain": [
       "Recsys training: model = factorization_recommender"
      ]
     },
     "metadata": {},
     "output_type": "display_data"
    },
    {
     "data": {
      "text/html": [
       "<pre>Recsys training: model = factorization_recommender</pre>"
      ],
      "text/plain": [
       "Recsys training: model = factorization_recommender"
      ]
     },
     "metadata": {},
     "output_type": "display_data"
    },
    {
     "data": {
      "text/plain": [
       "1.637587166066135"
      ]
     },
     "execution_count": 70,
     "metadata": {},
     "output_type": "execute_result"
    }
   ],
   "source": [
    "exp_items_df = items_df.copy()\n",
    "exp_items_df.Year = exp_items_df.Year.replace('\\D', 0, regex=True).astype(int)\n",
    "\n",
    "items_cross_val_scores(gl.SFrame(exp_items_df))"
   ]
  },
  {
   "cell_type": "code",
   "execution_count": 75,
   "metadata": {
    "collapsed": false,
    "hidden": true
   },
   "outputs": [
    {
     "data": {
      "text/html": [
       "<pre>Recsys training: model = factorization_recommender</pre>"
      ],
      "text/plain": [
       "Recsys training: model = factorization_recommender"
      ]
     },
     "metadata": {},
     "output_type": "display_data"
    },
    {
     "data": {
      "text/html": [
       "<pre>Recsys training: model = factorization_recommender</pre>"
      ],
      "text/plain": [
       "Recsys training: model = factorization_recommender"
      ]
     },
     "metadata": {},
     "output_type": "display_data"
    },
    {
     "data": {
      "text/html": [
       "<pre>Recsys training: model = factorization_recommender</pre>"
      ],
      "text/plain": [
       "Recsys training: model = factorization_recommender"
      ]
     },
     "metadata": {},
     "output_type": "display_data"
    },
    {
     "data": {
      "text/html": [
       "<pre>Recsys training: model = factorization_recommender</pre>"
      ],
      "text/plain": [
       "Recsys training: model = factorization_recommender"
      ]
     },
     "metadata": {},
     "output_type": "display_data"
    },
    {
     "data": {
      "text/html": [
       "<pre>Recsys training: model = factorization_recommender</pre>"
      ],
      "text/plain": [
       "Recsys training: model = factorization_recommender"
      ]
     },
     "metadata": {},
     "output_type": "display_data"
    },
    {
     "data": {
      "text/html": [
       "<pre>Recsys training: model = factorization_recommender</pre>"
      ],
      "text/plain": [
       "Recsys training: model = factorization_recommender"
      ]
     },
     "metadata": {},
     "output_type": "display_data"
    },
    {
     "data": {
      "text/html": [
       "<pre>Recsys training: model = factorization_recommender</pre>"
      ],
      "text/plain": [
       "Recsys training: model = factorization_recommender"
      ]
     },
     "metadata": {},
     "output_type": "display_data"
    },
    {
     "data": {
      "text/html": [
       "<pre>Recsys training: model = factorization_recommender</pre>"
      ],
      "text/plain": [
       "Recsys training: model = factorization_recommender"
      ]
     },
     "metadata": {},
     "output_type": "display_data"
    },
    {
     "data": {
      "text/html": [
       "<pre>Recsys training: model = factorization_recommender</pre>"
      ],
      "text/plain": [
       "Recsys training: model = factorization_recommender"
      ]
     },
     "metadata": {},
     "output_type": "display_data"
    },
    {
     "data": {
      "text/html": [
       "<pre>Recsys training: model = factorization_recommender</pre>"
      ],
      "text/plain": [
       "Recsys training: model = factorization_recommender"
      ]
     },
     "metadata": {},
     "output_type": "display_data"
    },
    {
     "data": {
      "text/plain": [
       "1.6352462267197674"
      ]
     },
     "execution_count": 75,
     "metadata": {},
     "output_type": "execute_result"
    }
   ],
   "source": [
    "exp_items_df = items_df.copy()\n",
    "exp_items_df.Year = exp_items_df.Year.replace('\\D', 0, regex=True).astype(int)\n",
    "exp_items_df.Year.replace(0, int(round(exp_items_df[exp_items_df.Year > 0].Year.mean())), inplace=True) #mean\n",
    "\n",
    "items_cross_val_scores(gl.SFrame(exp_items_df), 10)"
   ]
  },
  {
   "cell_type": "code",
   "execution_count": 74,
   "metadata": {
    "collapsed": false,
    "hidden": true
   },
   "outputs": [
    {
     "data": {
      "text/html": [
       "<pre>Recsys training: model = factorization_recommender</pre>"
      ],
      "text/plain": [
       "Recsys training: model = factorization_recommender"
      ]
     },
     "metadata": {},
     "output_type": "display_data"
    },
    {
     "data": {
      "text/html": [
       "<pre>Recsys training: model = factorization_recommender</pre>"
      ],
      "text/plain": [
       "Recsys training: model = factorization_recommender"
      ]
     },
     "metadata": {},
     "output_type": "display_data"
    },
    {
     "data": {
      "text/html": [
       "<pre>Recsys training: model = factorization_recommender</pre>"
      ],
      "text/plain": [
       "Recsys training: model = factorization_recommender"
      ]
     },
     "metadata": {},
     "output_type": "display_data"
    },
    {
     "data": {
      "text/html": [
       "<pre>Recsys training: model = factorization_recommender</pre>"
      ],
      "text/plain": [
       "Recsys training: model = factorization_recommender"
      ]
     },
     "metadata": {},
     "output_type": "display_data"
    },
    {
     "data": {
      "text/html": [
       "<pre>Recsys training: model = factorization_recommender</pre>"
      ],
      "text/plain": [
       "Recsys training: model = factorization_recommender"
      ]
     },
     "metadata": {},
     "output_type": "display_data"
    },
    {
     "data": {
      "text/html": [
       "<pre>Recsys training: model = factorization_recommender</pre>"
      ],
      "text/plain": [
       "Recsys training: model = factorization_recommender"
      ]
     },
     "metadata": {},
     "output_type": "display_data"
    },
    {
     "data": {
      "text/html": [
       "<pre>Recsys training: model = factorization_recommender</pre>"
      ],
      "text/plain": [
       "Recsys training: model = factorization_recommender"
      ]
     },
     "metadata": {},
     "output_type": "display_data"
    },
    {
     "data": {
      "text/html": [
       "<pre>Recsys training: model = factorization_recommender</pre>"
      ],
      "text/plain": [
       "Recsys training: model = factorization_recommender"
      ]
     },
     "metadata": {},
     "output_type": "display_data"
    },
    {
     "data": {
      "text/html": [
       "<pre>Recsys training: model = factorization_recommender</pre>"
      ],
      "text/plain": [
       "Recsys training: model = factorization_recommender"
      ]
     },
     "metadata": {},
     "output_type": "display_data"
    },
    {
     "data": {
      "text/html": [
       "<pre>Recsys training: model = factorization_recommender</pre>"
      ],
      "text/plain": [
       "Recsys training: model = factorization_recommender"
      ]
     },
     "metadata": {},
     "output_type": "display_data"
    },
    {
     "data": {
      "text/plain": [
       "1.6396509676634357"
      ]
     },
     "execution_count": 74,
     "metadata": {},
     "output_type": "execute_result"
    }
   ],
   "source": [
    "exp_items_df = items_df.copy()\n",
    "exp_items_df.Year = exp_items_df.Year.replace('\\D', 0, regex=True).astype(int)\n",
    "exp_items_df.Year.replace(0, int(round(exp_items_df[exp_items_df.Year > 0].Year.median())), inplace=True) #median\n",
    "\n",
    "items_cross_val_scores(gl.SFrame(exp_items_df), 10)"
   ]
  },
  {
   "cell_type": "code",
   "execution_count": 85,
   "metadata": {
    "collapsed": true,
    "hidden": true
   },
   "outputs": [],
   "source": [
    "items_df.Year = items_df.Year.replace('\\D', 0, regex=True).astype(int)\n",
    "items_df.Year.replace(0, int(round(items_df[items_df.Year > 0].Year.mean())), inplace=True) #mean"
   ]
  },
  {
   "cell_type": "markdown",
   "metadata": {
    "heading_collapsed": true,
    "hidden": true
   },
   "source": [
    "##### CreatorId"
   ]
  },
  {
   "cell_type": "code",
   "execution_count": 95,
   "metadata": {
    "collapsed": false,
    "hidden": true
   },
   "outputs": [
    {
     "data": {
      "text/plain": [
       "(101589, 92106)"
      ]
     },
     "execution_count": 95,
     "metadata": {},
     "output_type": "execute_result"
    }
   ],
   "source": [
    "len(items_df.CreatorId.unique()), len(users_df.UserId.unique())"
   ]
  },
  {
   "cell_type": "code",
   "execution_count": 97,
   "metadata": {
    "collapsed": false,
    "hidden": true
   },
   "outputs": [
    {
     "data": {
      "text/plain": [
       "92106"
      ]
     },
     "execution_count": 97,
     "metadata": {},
     "output_type": "execute_result"
    }
   ],
   "source": [
    "len(set(items_df.CreatorId.unique()) & set(users_df.UserId.unique()))"
   ]
  },
  {
   "cell_type": "code",
   "execution_count": 106,
   "metadata": {
    "collapsed": false,
    "hidden": true,
    "scrolled": true
   },
   "outputs": [
    {
     "data": {
      "text/html": [
       "<pre>Recsys training: model = factorization_recommender</pre>"
      ],
      "text/plain": [
       "Recsys training: model = factorization_recommender"
      ]
     },
     "metadata": {},
     "output_type": "display_data"
    },
    {
     "data": {
      "text/html": [
       "<pre>Recsys training: model = factorization_recommender</pre>"
      ],
      "text/plain": [
       "Recsys training: model = factorization_recommender"
      ]
     },
     "metadata": {},
     "output_type": "display_data"
    },
    {
     "data": {
      "text/html": [
       "<pre>Recsys training: model = factorization_recommender</pre>"
      ],
      "text/plain": [
       "Recsys training: model = factorization_recommender"
      ]
     },
     "metadata": {},
     "output_type": "display_data"
    },
    {
     "data": {
      "text/html": [
       "<pre>Recsys training: model = factorization_recommender</pre>"
      ],
      "text/plain": [
       "Recsys training: model = factorization_recommender"
      ]
     },
     "metadata": {},
     "output_type": "display_data"
    },
    {
     "data": {
      "text/html": [
       "<pre>Recsys training: model = factorization_recommender</pre>"
      ],
      "text/plain": [
       "Recsys training: model = factorization_recommender"
      ]
     },
     "metadata": {},
     "output_type": "display_data"
    },
    {
     "data": {
      "text/plain": [
       "1.6368300068803201"
      ]
     },
     "execution_count": 106,
     "metadata": {},
     "output_type": "execute_result"
    }
   ],
   "source": [
    "items_cross_val_scores(gl.SFrame(items_df))"
   ]
  },
  {
   "cell_type": "code",
   "execution_count": 105,
   "metadata": {
    "collapsed": false,
    "hidden": true
   },
   "outputs": [
    {
     "data": {
      "text/html": [
       "<pre>Recsys training: model = factorization_recommender</pre>"
      ],
      "text/plain": [
       "Recsys training: model = factorization_recommender"
      ]
     },
     "metadata": {},
     "output_type": "display_data"
    },
    {
     "data": {
      "text/html": [
       "<pre>Recsys training: model = factorization_recommender</pre>"
      ],
      "text/plain": [
       "Recsys training: model = factorization_recommender"
      ]
     },
     "metadata": {},
     "output_type": "display_data"
    },
    {
     "data": {
      "text/html": [
       "<pre>Recsys training: model = factorization_recommender</pre>"
      ],
      "text/plain": [
       "Recsys training: model = factorization_recommender"
      ]
     },
     "metadata": {},
     "output_type": "display_data"
    },
    {
     "data": {
      "text/html": [
       "<pre>Recsys training: model = factorization_recommender</pre>"
      ],
      "text/plain": [
       "Recsys training: model = factorization_recommender"
      ]
     },
     "metadata": {},
     "output_type": "display_data"
    },
    {
     "data": {
      "text/html": [
       "<pre>Recsys training: model = factorization_recommender</pre>"
      ],
      "text/plain": [
       "Recsys training: model = factorization_recommender"
      ]
     },
     "metadata": {},
     "output_type": "display_data"
    },
    {
     "data": {
      "text/plain": [
       "1.6450263456493919"
      ]
     },
     "execution_count": 105,
     "metadata": {},
     "output_type": "execute_result"
    }
   ],
   "source": [
    "items_cross_val_scores(gl.SFrame(items_df.drop('CreatorId',1)))"
   ]
  },
  {
   "cell_type": "markdown",
   "metadata": {
    "heading_collapsed": true,
    "hidden": true
   },
   "source": [
    "##### DistributorId"
   ]
  },
  {
   "cell_type": "code",
   "execution_count": 99,
   "metadata": {
    "collapsed": false,
    "hidden": true
   },
   "outputs": [
    {
     "data": {
      "text/plain": [
       "(16731, 92106)"
      ]
     },
     "execution_count": 99,
     "metadata": {},
     "output_type": "execute_result"
    }
   ],
   "source": [
    "len(items_df.DistributorId.unique()), len(users_df.UserId.unique())"
   ]
  },
  {
   "cell_type": "code",
   "execution_count": 100,
   "metadata": {
    "collapsed": false,
    "hidden": true,
    "scrolled": true
   },
   "outputs": [
    {
     "data": {
      "text/plain": [
       "16731"
      ]
     },
     "execution_count": 100,
     "metadata": {},
     "output_type": "execute_result"
    }
   ],
   "source": [
    "len(set(items_df.DistributorId.unique()) & set(users_df.UserId.unique()))"
   ]
  },
  {
   "cell_type": "code",
   "execution_count": 107,
   "metadata": {
    "collapsed": false,
    "hidden": true,
    "scrolled": true
   },
   "outputs": [
    {
     "data": {
      "text/html": [
       "<pre>Recsys training: model = factorization_recommender</pre>"
      ],
      "text/plain": [
       "Recsys training: model = factorization_recommender"
      ]
     },
     "metadata": {},
     "output_type": "display_data"
    },
    {
     "data": {
      "text/html": [
       "<pre>Recsys training: model = factorization_recommender</pre>"
      ],
      "text/plain": [
       "Recsys training: model = factorization_recommender"
      ]
     },
     "metadata": {},
     "output_type": "display_data"
    },
    {
     "data": {
      "text/html": [
       "<pre>Recsys training: model = factorization_recommender</pre>"
      ],
      "text/plain": [
       "Recsys training: model = factorization_recommender"
      ]
     },
     "metadata": {},
     "output_type": "display_data"
    },
    {
     "data": {
      "text/html": [
       "<pre>Recsys training: model = factorization_recommender</pre>"
      ],
      "text/plain": [
       "Recsys training: model = factorization_recommender"
      ]
     },
     "metadata": {},
     "output_type": "display_data"
    },
    {
     "data": {
      "text/html": [
       "<pre>Recsys training: model = factorization_recommender</pre>"
      ],
      "text/plain": [
       "Recsys training: model = factorization_recommender"
      ]
     },
     "metadata": {},
     "output_type": "display_data"
    },
    {
     "data": {
      "text/plain": [
       "1.6458900536617669"
      ]
     },
     "execution_count": 107,
     "metadata": {},
     "output_type": "execute_result"
    }
   ],
   "source": [
    "items_cross_val_scores(gl.SFrame(items_df.drop('DistributorId',1)))"
   ]
  },
  {
   "cell_type": "markdown",
   "metadata": {
    "heading_collapsed": true,
    "hidden": true
   },
   "source": [
    "##### Result"
   ]
  },
  {
   "cell_type": "markdown",
   "metadata": {
    "hidden": true
   },
   "source": [
    "Profit:\n",
    "   - replace 0 and non number values of _Year_ with mean value of postivive years\n",
    "   \n",
    "Bad:\n",
    "   - _Year_ removal\n",
    "   - _CreatorId_ removal\n",
    "   - _DistributorId_ removal"
   ]
  },
  {
   "cell_type": "markdown",
   "metadata": {
    "heading_collapsed": true
   },
   "source": [
    "## Crab"
   ]
  },
  {
   "cell_type": "raw",
   "metadata": {
    "collapsed": true,
    "hidden": true
   },
   "source": [
    "from scikits.crab.models import MatrixPreferenceDataModel"
   ]
  },
  {
   "cell_type": "raw",
   "metadata": {
    "collapsed": false,
    "hidden": true
   },
   "source": [
    "train_prefs_df.head()"
   ]
  },
  {
   "cell_type": "raw",
   "metadata": {
    "collapsed": false,
    "hidden": true
   },
   "source": [
    "train_dict = dict(map(lambda (userid,df): (userid, dict(map(lambda t: t[1:3],df.values))), \\\n",
    "                      train_prefs_df[train_prefs_df.Rating != 0].groupby('UserId')))"
   ]
  },
  {
   "cell_type": "raw",
   "metadata": {
    "collapsed": false,
    "hidden": true
   },
   "source": [
    "model = MatrixPreferenceDataModel(train_dict)"
   ]
  },
  {
   "cell_type": "markdown",
   "metadata": {
    "heading_collapsed": true
   },
   "source": [
    "## Sklearn"
   ]
  },
  {
   "cell_type": "raw",
   "metadata": {
    "collapsed": true,
    "hidden": true
   },
   "source": [
    "from sklearn.preprocessing import LabelEncoder\n",
    "from sklearn.decomposition import TruncatedSVD\n",
    "from sklearn.neighbors import LSHForest"
   ]
  },
  {
   "cell_type": "raw",
   "metadata": {
    "collapsed": false,
    "hidden": true
   },
   "source": [
    "items_df.ItemId.sort_values().head()"
   ]
  },
  {
   "cell_type": "raw",
   "metadata": {
    "collapsed": false,
    "hidden": true
   },
   "source": [
    "users_df.UserId.sort_values().head()"
   ]
  },
  {
   "cell_type": "raw",
   "metadata": {
    "collapsed": false,
    "hidden": true
   },
   "source": [
    "user_item_matrix = scipy.sparse.lil_matrix((len(users_df),len(items_df)),dtype=numpy.int8)\n",
    "train_dict = dict(map(lambda (userid,df): (userid, dict(map(lambda t: t[1:3],df.values))), \\\n",
    "                      train_prefs_df[train_prefs_df.Rating != 0].groupby('UserId')))"
   ]
  },
  {
   "cell_type": "raw",
   "metadata": {
    "collapsed": false,
    "hidden": true,
    "scrolled": true
   },
   "source": [
    "sorted(train_dict[7].items(),key=lambda t:t[0])"
   ]
  },
  {
   "cell_type": "raw",
   "metadata": {
    "collapsed": true,
    "hidden": true
   },
   "source": [
    "for user_id, prefs in train_dict.items():\n",
    "    for item_id, pref in sorted(prefs.items(),key=lambda t:t[0]):\n",
    "        user_item_matrix[user_id, item_id] = pref"
   ]
  },
  {
   "cell_type": "raw",
   "metadata": {
    "collapsed": false,
    "hidden": true
   },
   "source": [
    "user_item_matrix = user_item_matrix.tocsr()\n",
    "\n",
    "user_item_matrix"
   ]
  },
  {
   "cell_type": "raw",
   "metadata": {
    "collapsed": true,
    "hidden": true
   },
   "source": [
    "svd = TruncatedSVD(n_components=1000)\n",
    "truncated_user_item = svd.fit_transform(user_item_matrix)"
   ]
  },
  {
   "cell_type": "raw",
   "metadata": {
    "collapsed": false,
    "hidden": true,
    "scrolled": true
   },
   "source": [
    "truncated_user_item.shape"
   ]
  },
  {
   "cell_type": "raw",
   "metadata": {
    "collapsed": true,
    "hidden": true
   },
   "source": [
    "lsh = LSHForest()\n",
    "lsh.fit()"
   ]
  },
  {
   "cell_type": "markdown",
   "metadata": {},
   "source": [
    "# Model tuning"
   ]
  },
  {
   "cell_type": "code",
   "execution_count": 128,
   "metadata": {
    "collapsed": false
   },
   "outputs": [],
   "source": [
    "users_sf = gl.SFrame(users_df)\n",
    "\n",
    "items_sf = gl.SFrame(items_df)"
   ]
  },
  {
   "cell_type": "raw",
   "metadata": {},
   "source": [
    "cross_val_scores(lambda train_sf:\\\n",
    "                            gl.factorization_recommender.create(train_sf, user_id='UserId', item_id='ItemId', target='Rating', verbose=False,\n",
    "                                                                user_data=users_sf,\n",
    "                                                                item_data=items_sf,\n",
    "                                                                num_factors=8,\n",
    "                                                                sgd_step_size=0.01,\n",
    "                                                                max_iterations=110,\n",
    "                                                                solver='sgd',\n",
    "                                                                side_data_factorization=True,\n",
    "                                                                regularization_type='weighted',\n",
    "                                                                linear_regularization=0.103448,\n",
    "                                                                regularization=0.517241,\n",
    "                                                                ), train_provided_sf, 10, verbose=False)\n",
    "\n",
    "1.6166794833058433"
   ]
  },
  {
   "cell_type": "code",
   "execution_count": null,
   "metadata": {
    "collapsed": true
   },
   "outputs": [],
   "source": [
    "cross_val_scores(lambda train_sf:\\\n",
    "                            gl.factorization_recommender.create(train_sf, user_id='UserId', item_id='ItemId', target='Rating', verbose=False,\n",
    "                                                                user_data=users_sf,\n",
    "                                                                item_data=items_sf,\n",
    "                                                                solver='sgd',\n",
    "                                                                side_data_factorization=True,\n",
    "                                                                regularization_type='weighted',\n",
    "                                                                num_factors=12,\n",
    "                                                                sgd_step_size=0.01,\n",
    "                                                                max_iterations=110,\n",
    "                                                                \n",
    "                                                                linear_regularization=0.103448,\n",
    "                                                                regularization=0.724138,\n",
    "                                                                ), train_provided_sf, 10, verbose=False)\n",
    "\n",
    "1.6166794833058433"
   ]
  },
  {
   "cell_type": "code",
   "execution_count": null,
   "metadata": {
    "collapsed": true
   },
   "outputs": [],
   "source": [
    "def evaluate_rmse(model, train_set, valid_set):\n",
    "    return {'validation_rmse':graphlab.evaluation.rmse(valid_set['Rating'], model.predict(valid_set))}\n",
    "\n",
    "cv_pairs = list(folds(train_provided_sf,3))"
   ]
  },
  {
   "cell_type": "code",
   "execution_count": null,
   "metadata": {
    "collapsed": false
   },
   "outputs": [],
   "source": [
    "job = gl.model_parameter_search.grid_search.create(cv_pairs, gl.factorization_recommender.create,\\\n",
    "                                                    {'user_id':'UserId','item_id':'ItemId','user_data':[users_sf],'item_data':[items_sf],'target':'Rating',\n",
    "                                                     'solver':'sgd', 'regularization_type':'weighted',\n",
    "                                                     'num_factors':list(range(1,16)),\n",
    "                                                     'sgd_step_size':[0,.01,.001,.0001,.00001],\n",
    "                                                     'regularization':list(np.linspace(1e-12,1,30)),\n",
    "                                                     'linear_regularization':list(np.linspace(1e-12,1,30)),\n",
    "                                                     'max_iterations':list(range(60,121,10))\n",
    "                                                     }, evaluator=evaluate_rmse, return_model=False)"
   ]
  },
  {
   "cell_type": "code",
   "execution_count": null,
   "metadata": {
    "collapsed": false
   },
   "outputs": [],
   "source": [
    "job.get_status()"
   ]
  },
  {
   "cell_type": "code",
   "execution_count": null,
   "metadata": {
    "collapsed": false
   },
   "outputs": [],
   "source": [
    "search_result = job.get_results(wait=False)"
   ]
  },
  {
   "cell_type": "code",
   "execution_count": null,
   "metadata": {
    "collapsed": false
   },
   "outputs": [],
   "source": [
    "job.cancel()"
   ]
  },
  {
   "cell_type": "markdown",
   "metadata": {},
   "source": [
    "## Checked models"
   ]
  },
  {
   "cell_type": "markdown",
   "metadata": {},
   "source": [
    "p.s. sorted by score on kaggle"
   ]
  },
  {
   "cell_type": "markdown",
   "metadata": {},
   "source": [
    "### Latent Factor (Graphlab)"
   ]
  },
  {
   "cell_type": "markdown",
   "metadata": {},
   "source": [
    "Essential param:\n",
    "- solver = 'sgd'\n",
    "- side_data_factorization = True (default)\n",
    "- regularization_type = 'weighted'"
   ]
  },
  {
   "cell_type": "markdown",
   "metadata": {},
   "source": [
    "1.  1. Params:\n",
    "       - solver = 'sgd\n",
    "       - sgd_step_size = 0.01\n",
    "       - max_iterations = 100\n",
    "       - num_factors = 12\n",
    "       - regularization = 0.724138\n",
    "       - regularization_type = 'weighted'\n",
    "       - side_data_factorization = True\n",
    "    2. Results:\n",
    "        - _Cross-val score: 1.6188531735562157_\n",
    "        - **Kaggle score: 1.60929**\n",
    "\n",
    "1.  1. Params - same as next but with side_data_factorization=True\n",
    "    2. Results:\n",
    "        - _Cross-val score: 1.6303911001573472_\n",
    "        - **Kaggle score: 1.62233**\n",
    "1. \n",
    "    1. Params:\n",
    "        - solver='sgd'\n",
    "        - sgd_step_size = 0\n",
    "        - linear_reg = 0.758620689655\n",
    "        - max_iterations = 70\n",
    "        - nmf = 0\n",
    "        - num_factors = 5\n",
    "        - regularization = 0.413793103449\n",
    "        - regularization_type = 'weighted'\n",
    "        - side_data_factorization = False\n",
    "    2. Results:\n",
    "        - _Cross-val score: 1.6787204753271823_\n",
    "        - **Kaggle score: 1.67161**\n",
    "\n",
    "1. solver='sgd, sgd_step_size=.0001, side_data_factorization=False, regularization=9.9999999999999998e-13\n",
    "    - _Cross-val score: 1.7613632832631356_, **Kaggle score: 1.75684**\n",
    "1. solver='sgd, sgd_step_size=.001\n",
    "    - _Cross-val score: 1.7869663402768563_, **Kaggle score: 1.76018**"
   ]
  },
  {
   "cell_type": "markdown",
   "metadata": {},
   "source": [
    "# Recommendation"
   ]
  },
  {
   "cell_type": "code",
   "execution_count": 139,
   "metadata": {
    "collapsed": false
   },
   "outputs": [
    {
     "data": {
      "text/html": [
       "<pre>Recsys training: model = factorization_recommender</pre>"
      ],
      "text/plain": [
       "Recsys training: model = factorization_recommender"
      ]
     },
     "metadata": {},
     "output_type": "display_data"
    }
   ],
   "source": [
    "model = gl.factorization_recommender.create(train_provided_sf, user_id='UserId', item_id='ItemId', target='Rating', verbose=False,\n",
    "                                            user_data=users_sf,\n",
    "                                            item_data=items_sf,\n",
    "                                            num_factors=12,\n",
    "                                            sgd_step_size=0.01,\n",
    "                                            max_iterations=100,\n",
    "                                            solver='sgd',\n",
    "                                            side_data_factorization=True,\n",
    "                                            regularization_type='weighted',\n",
    "                                            regularization=0.724138)"
   ]
  },
  {
   "cell_type": "raw",
   "metadata": {
    "collapsed": false
   },
   "source": [
    "model = gl.factorization_recommender.create(train_provided_sf,\n",
    "                                            user_id='UserId',\n",
    "                                            item_id='ItemId',\n",
    "                                            user_data=users_sf,\n",
    "                                            item_data=items_sf,\n",
    "                                            target='Rating',\n",
    "                                            num_factors=5,\n",
    "                                            max_iterations=70,\n",
    "                                            nmf=False,\n",
    "                                            solver='sgd',\n",
    "                                            sgd_step_size=0,\n",
    "                                            side_data_factorization=True,\n",
    "                                            regularization_type='weighted',\n",
    "                                            linear_regularization=0.758620689655,\n",
    "                                            regularization=0.413793103449,\n",
    "                                            verbose=False)"
   ]
  },
  {
   "cell_type": "code",
   "execution_count": 140,
   "metadata": {
    "collapsed": false
   },
   "outputs": [],
   "source": [
    "y_pred = model.predict(graphlab.SFrame(test_prefs_df)).to_numpy()\n",
    "\n",
    "result = pd.DataFrame(data=hstack([test_prefs_df.PairId.as_matrix()[:,newaxis],y_pred[:,newaxis]]),columns=['PairId','Rating'])\n",
    "\n",
    "result.PairId = result.PairId.astype(int)"
   ]
  },
  {
   "cell_type": "code",
   "execution_count": 141,
   "metadata": {
    "collapsed": false
   },
   "outputs": [
    {
     "data": {
      "text/html": [
       "<div>\n",
       "<table border=\"1\" class=\"dataframe\">\n",
       "  <thead>\n",
       "    <tr style=\"text-align: right;\">\n",
       "      <th></th>\n",
       "      <th>PairId</th>\n",
       "      <th>Rating</th>\n",
       "    </tr>\n",
       "  </thead>\n",
       "  <tbody>\n",
       "    <tr>\n",
       "      <th>count</th>\n",
       "      <td>50000.000000</td>\n",
       "      <td>50000.000000</td>\n",
       "    </tr>\n",
       "    <tr>\n",
       "      <th>mean</th>\n",
       "      <td>24999.500000</td>\n",
       "      <td>7.634979</td>\n",
       "    </tr>\n",
       "    <tr>\n",
       "      <th>std</th>\n",
       "      <td>14433.901067</td>\n",
       "      <td>0.973897</td>\n",
       "    </tr>\n",
       "    <tr>\n",
       "      <th>min</th>\n",
       "      <td>0.000000</td>\n",
       "      <td>2.398545</td>\n",
       "    </tr>\n",
       "    <tr>\n",
       "      <th>25%</th>\n",
       "      <td>12499.750000</td>\n",
       "      <td>7.079103</td>\n",
       "    </tr>\n",
       "    <tr>\n",
       "      <th>50%</th>\n",
       "      <td>24999.500000</td>\n",
       "      <td>7.627352</td>\n",
       "    </tr>\n",
       "    <tr>\n",
       "      <th>75%</th>\n",
       "      <td>37499.250000</td>\n",
       "      <td>8.270776</td>\n",
       "    </tr>\n",
       "    <tr>\n",
       "      <th>max</th>\n",
       "      <td>49999.000000</td>\n",
       "      <td>11.222252</td>\n",
       "    </tr>\n",
       "  </tbody>\n",
       "</table>\n",
       "</div>"
      ],
      "text/plain": [
       "             PairId        Rating\n",
       "count  50000.000000  50000.000000\n",
       "mean   24999.500000      7.634979\n",
       "std    14433.901067      0.973897\n",
       "min        0.000000      2.398545\n",
       "25%    12499.750000      7.079103\n",
       "50%    24999.500000      7.627352\n",
       "75%    37499.250000      8.270776\n",
       "max    49999.000000     11.222252"
      ]
     },
     "execution_count": 141,
     "metadata": {},
     "output_type": "execute_result"
    }
   ],
   "source": [
    "result.describe()"
   ]
  },
  {
   "cell_type": "code",
   "execution_count": 142,
   "metadata": {
    "collapsed": true
   },
   "outputs": [],
   "source": [
    "from datetime import datetime\n",
    "\n",
    "result.to_csv('submission_%s.csv' % datetime.now().isoformat(),index=False)"
   ]
  }
 ],
 "metadata": {
  "anaconda-cloud": {},
  "kernelspec": {
   "display_name": "Python [default]",
   "language": "python",
   "name": "python3"
  },
  "language_info": {
   "codemirror_mode": {
    "name": "ipython",
    "version": 3
   },
   "file_extension": ".py",
   "mimetype": "text/x-python",
   "name": "python",
   "nbconvert_exporter": "python",
   "pygments_lexer": "ipython3",
   "version": "3.5.2"
  },
  "nav_menu": {},
  "toc": {
   "navigate_menu": true,
   "number_sections": false,
   "sideBar": true,
   "threshold": 6,
   "toc_cell": false,
   "toc_section_display": "block",
   "toc_window_display": true
  },
  "toc_position": {
   "height": "860px",
   "left": "0px",
   "right": "1345px",
   "top": "106px",
   "width": "212px"
  }
 },
 "nbformat": 4,
 "nbformat_minor": 1
}
