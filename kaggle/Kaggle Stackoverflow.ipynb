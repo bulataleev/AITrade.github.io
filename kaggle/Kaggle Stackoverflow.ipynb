{
 "cells": [
  {
   "cell_type": "code",
   "execution_count": 1,
   "metadata": {
    "collapsed": false
   },
   "outputs": [
    {
     "name": "stdout",
     "output_type": "stream",
     "text": [
      "Populating the interactive namespace from numpy and matplotlib\n"
     ]
    }
   ],
   "source": [
    "%pylab inline\n",
    "import pandas as pd\n",
    "from sklearn.tree import DecisionTreeClassifier\n",
    "import nltk\n",
    "from dateutil import parser as dateparser \n",
    "from collections import Counter, Mapping, Sequence, defaultdict\n",
    "from itertools import groupby\n",
    "import re\n",
    "import csv"
   ]
  },
  {
   "cell_type": "code",
   "execution_count": 31,
   "metadata": {
    "collapsed": false
   },
   "outputs": [],
   "source": [
    "import os"
   ]
  },
  {
   "cell_type": "code",
   "execution_count": 23,
   "metadata": {
    "collapsed": false
   },
   "outputs": [],
   "source": [
    "CLASSES = ['open', 'not a real question', 'not constructive', 'off topic', 'too localized']\n",
    "status = dict( (k, str(i+1)) for i,k in enumerate(CLASSES))"
   ]
  },
  {
   "cell_type": "code",
   "execution_count": 24,
   "metadata": {
    "collapsed": false
   },
   "outputs": [],
   "source": [
    "RE_NONALNUM = re.compile(r'\\W+')\n",
    "RE_NONANS   = re.compile(r'[^\\w\\s]+')\n",
    "RE_DIGIT    = re.compile(r'\\d+')\n",
    "RE_URL      = re.compile(r'https?://')\n",
    "RE_NONWORD  = re.compile(r'[A-Z\\d]+')"
   ]
  },
  {
   "cell_type": "code",
   "execution_count": 26,
   "metadata": {
    "collapsed": true
   },
   "outputs": [],
   "source": [
    "def norm(string):\n",
    "    return RE_NONANS.sub('', string).lower()\n",
    "\n",
    "def norm_tag(string):\n",
    "    return RE_NONALNUM.sub('', string).lower()"
   ]
  },
  {
   "cell_type": "code",
   "execution_count": 27,
   "metadata": {
    "collapsed": true
   },
   "outputs": [],
   "source": [
    "def norm_bow_tokens(bow):\n",
    "    # Remove nonalphanumeric components of the word, due to VW format restrictions\n",
    "    retval = defaultdict(int)\n",
    "    for key, value in bow.iteritems():\n",
    "        key = RE_NONALNUM.sub('',key)\n",
    "    if key:\n",
    "        retval[key] += value\n",
    "    return retval"
   ]
  },
  {
   "cell_type": "code",
   "execution_count": 28,
   "metadata": {
    "collapsed": true
   },
   "outputs": [],
   "source": [
    "def ngram(seq, n):\n",
    "    dist = Counter( '_'.join(seq[pos:pos+n]) for pos in xrange(len(seq) - n + 1) )\n",
    "    return dist"
   ]
  },
  {
   "cell_type": "code",
   "execution_count": 12,
   "metadata": {
    "collapsed": true
   },
   "outputs": [],
   "source": [
    "filename = \"train_stoverflow.csv\""
   ]
  },
  {
   "cell_type": "code",
   "execution_count": 14,
   "metadata": {
    "collapsed": false
   },
   "outputs": [
    {
     "data": {
      "text/plain": [
       "<_io.TextIOWrapper name='train_stoverflow.csv' mode='r' encoding='UTF-8'>"
      ]
     },
     "execution_count": 14,
     "metadata": {},
     "output_type": "execute_result"
    }
   ],
   "source": [
    "open(filename)"
   ]
  },
  {
   "cell_type": "code",
   "execution_count": 39,
   "metadata": {
    "collapsed": false
   },
   "outputs": [],
   "source": [
    "csv = pd.read_csv('train_stoverflow.csv', encoding='cp1251', index_col='PostId', parse_dates=['PostCreationDate', 'OwnerCreationDate', 'PostClosedDate'], infer_datetime_format=True, )"
   ]
  },
  {
   "cell_type": "code",
   "execution_count": 40,
   "metadata": {
    "collapsed": false
   },
   "outputs": [
    {
     "data": {
      "text/html": [
       "<div>\n",
       "<table border=\"1\" class=\"dataframe\">\n",
       "  <thead>\n",
       "    <tr style=\"text-align: right;\">\n",
       "      <th></th>\n",
       "      <th>PostCreationDate</th>\n",
       "      <th>OwnerUserId</th>\n",
       "      <th>OwnerCreationDate</th>\n",
       "      <th>ReputationAtPostCreation</th>\n",
       "      <th>OwnerUndeletedAnswerCountAtPostTime</th>\n",
       "      <th>Title</th>\n",
       "      <th>BodyMarkdown</th>\n",
       "      <th>Tag1</th>\n",
       "      <th>Tag2</th>\n",
       "      <th>Tag3</th>\n",
       "      <th>Tag4</th>\n",
       "      <th>Tag5</th>\n",
       "      <th>PostClosedDate</th>\n",
       "      <th>OpenStatus</th>\n",
       "    </tr>\n",
       "    <tr>\n",
       "      <th>PostId</th>\n",
       "      <th></th>\n",
       "      <th></th>\n",
       "      <th></th>\n",
       "      <th></th>\n",
       "      <th></th>\n",
       "      <th></th>\n",
       "      <th></th>\n",
       "      <th></th>\n",
       "      <th></th>\n",
       "      <th></th>\n",
       "      <th></th>\n",
       "      <th></th>\n",
       "      <th></th>\n",
       "      <th></th>\n",
       "    </tr>\n",
       "  </thead>\n",
       "  <tbody>\n",
       "    <tr>\n",
       "      <th>1402214</th>\n",
       "      <td>2011-08-10 21:24:36</td>\n",
       "      <td>877278</td>\n",
       "      <td>2011-08-03 17:57:10</td>\n",
       "      <td>17</td>\n",
       "      <td>0</td>\n",
       "      <td>GET/Post values don't be refreshed/parsed by t...</td>\n",
       "      <td>![Get-values don't be refreshed][1]\\r\\r\\n\\r\\r\\...</td>\n",
       "      <td>php</td>\n",
       "      <td>apache</td>\n",
       "      <td>NaN</td>\n",
       "      <td>NaN</td>\n",
       "      <td>NaN</td>\n",
       "      <td>2011-08-10 21:57:14</td>\n",
       "      <td>1</td>\n",
       "    </tr>\n",
       "    <tr>\n",
       "      <th>2338671</th>\n",
       "      <td>2011-07-09 15:46:51</td>\n",
       "      <td>45954</td>\n",
       "      <td>2008-12-12 21:03:08</td>\n",
       "      <td>1757</td>\n",
       "      <td>22</td>\n",
       "      <td>Search control in Haskell</td>\n",
       "      <td>Suppose you're writing a program that searches...</td>\n",
       "      <td>search</td>\n",
       "      <td>haskell</td>\n",
       "      <td>lazy-evaluation</td>\n",
       "      <td>inference</td>\n",
       "      <td>NaN</td>\n",
       "      <td>NaT</td>\n",
       "      <td>0</td>\n",
       "    </tr>\n",
       "    <tr>\n",
       "      <th>2042048</th>\n",
       "      <td>2011-05-03 15:48:34</td>\n",
       "      <td>1185829</td>\n",
       "      <td>2011-03-28 13:20:36</td>\n",
       "      <td>1</td>\n",
       "      <td>0</td>\n",
       "      <td>jQuery: event.preventdefault not working with ...</td>\n",
       "      <td>I have this bit of jQuery toggling a paragraph...</td>\n",
       "      <td>jquery</td>\n",
       "      <td>firefox</td>\n",
       "      <td>toggle</td>\n",
       "      <td>preventdefault</td>\n",
       "      <td>NaN</td>\n",
       "      <td>NaT</td>\n",
       "      <td>0</td>\n",
       "    </tr>\n",
       "    <tr>\n",
       "      <th>1672620</th>\n",
       "      <td>2011-12-07 17:28:40</td>\n",
       "      <td>1086278</td>\n",
       "      <td>2011-12-07 17:18:32</td>\n",
       "      <td>1</td>\n",
       "      <td>0</td>\n",
       "      <td>java 2 dimensional arrays</td>\n",
       "      <td>\\\\I need to look through an array from east to...</td>\n",
       "      <td>java</td>\n",
       "      <td>arrays</td>\n",
       "      <td>NaN</td>\n",
       "      <td>NaN</td>\n",
       "      <td>NaN</td>\n",
       "      <td>2011-12-07 18:33:56</td>\n",
       "      <td>4</td>\n",
       "    </tr>\n",
       "    <tr>\n",
       "      <th>3103106</th>\n",
       "      <td>2011-12-16 04:07:33</td>\n",
       "      <td>1002323</td>\n",
       "      <td>2011-10-19 00:33:34</td>\n",
       "      <td>16</td>\n",
       "      <td>2</td>\n",
       "      <td>Which interface is used to detect key events f...</td>\n",
       "      <td>I've created a simple custom dialog that asks ...</td>\n",
       "      <td>android</td>\n",
       "      <td>sdk</td>\n",
       "      <td>dialog</td>\n",
       "      <td>onkeyup</td>\n",
       "      <td>onkeydown</td>\n",
       "      <td>NaT</td>\n",
       "      <td>0</td>\n",
       "    </tr>\n",
       "  </tbody>\n",
       "</table>\n",
       "</div>"
      ],
      "text/plain": [
       "           PostCreationDate  OwnerUserId   OwnerCreationDate  \\\n",
       "PostId                                                         \n",
       "1402214 2011-08-10 21:24:36       877278 2011-08-03 17:57:10   \n",
       "2338671 2011-07-09 15:46:51        45954 2008-12-12 21:03:08   \n",
       "2042048 2011-05-03 15:48:34      1185829 2011-03-28 13:20:36   \n",
       "1672620 2011-12-07 17:28:40      1086278 2011-12-07 17:18:32   \n",
       "3103106 2011-12-16 04:07:33      1002323 2011-10-19 00:33:34   \n",
       "\n",
       "         ReputationAtPostCreation  OwnerUndeletedAnswerCountAtPostTime  \\\n",
       "PostId                                                                   \n",
       "1402214                        17                                    0   \n",
       "2338671                      1757                                   22   \n",
       "2042048                         1                                    0   \n",
       "1672620                         1                                    0   \n",
       "3103106                        16                                    2   \n",
       "\n",
       "                                                     Title  \\\n",
       "PostId                                                       \n",
       "1402214  GET/Post values don't be refreshed/parsed by t...   \n",
       "2338671                          Search control in Haskell   \n",
       "2042048  jQuery: event.preventdefault not working with ...   \n",
       "1672620                          java 2 dimensional arrays   \n",
       "3103106  Which interface is used to detect key events f...   \n",
       "\n",
       "                                              BodyMarkdown     Tag1     Tag2  \\\n",
       "PostId                                                                         \n",
       "1402214  ![Get-values don't be refreshed][1]\\r\\r\\n\\r\\r\\...      php   apache   \n",
       "2338671  Suppose you're writing a program that searches...   search  haskell   \n",
       "2042048  I have this bit of jQuery toggling a paragraph...   jquery  firefox   \n",
       "1672620  \\\\I need to look through an array from east to...     java   arrays   \n",
       "3103106  I've created a simple custom dialog that asks ...  android      sdk   \n",
       "\n",
       "                    Tag3            Tag4       Tag5      PostClosedDate  \\\n",
       "PostId                                                                    \n",
       "1402214              NaN             NaN        NaN 2011-08-10 21:57:14   \n",
       "2338671  lazy-evaluation       inference        NaN                 NaT   \n",
       "2042048           toggle  preventdefault        NaN                 NaT   \n",
       "1672620              NaN             NaN        NaN 2011-12-07 18:33:56   \n",
       "3103106           dialog         onkeyup  onkeydown                 NaT   \n",
       "\n",
       "         OpenStatus  \n",
       "PostId               \n",
       "1402214           1  \n",
       "2338671           0  \n",
       "2042048           0  \n",
       "1672620           4  \n",
       "3103106           0  "
      ]
     },
     "execution_count": 40,
     "metadata": {},
     "output_type": "execute_result"
    }
   ],
   "source": [
    "csv.head()"
   ]
  },
  {
   "cell_type": "code",
   "execution_count": 41,
   "metadata": {
    "collapsed": false
   },
   "outputs": [
    {
     "data": {
      "text/plain": [
       "pandas.tslib.Timestamp"
      ]
     },
     "execution_count": 41,
     "metadata": {},
     "output_type": "execute_result"
    }
   ],
   "source": [
    "type(csv.PostCreationDate.get(1402214))"
   ]
  },
  {
   "cell_type": "code",
   "execution_count": 42,
   "metadata": {
    "collapsed": false
   },
   "outputs": [
    {
     "data": {
      "text/html": [
       "<div>\n",
       "<table border=\"1\" class=\"dataframe\">\n",
       "  <thead>\n",
       "    <tr style=\"text-align: right;\">\n",
       "      <th></th>\n",
       "      <th>OwnerUserId</th>\n",
       "      <th>ReputationAtPostCreation</th>\n",
       "      <th>OwnerUndeletedAnswerCountAtPostTime</th>\n",
       "      <th>OpenStatus</th>\n",
       "    </tr>\n",
       "  </thead>\n",
       "  <tbody>\n",
       "    <tr>\n",
       "      <th>count</th>\n",
       "      <td>3.700000e+04</td>\n",
       "      <td>37000.000000</td>\n",
       "      <td>37000.000000</td>\n",
       "      <td>37000.000000</td>\n",
       "    </tr>\n",
       "    <tr>\n",
       "      <th>mean</th>\n",
       "      <td>6.113169e+05</td>\n",
       "      <td>545.968568</td>\n",
       "      <td>21.147541</td>\n",
       "      <td>0.810811</td>\n",
       "    </tr>\n",
       "    <tr>\n",
       "      <th>std</th>\n",
       "      <td>4.335216e+05</td>\n",
       "      <td>2222.474706</td>\n",
       "      <td>84.753640</td>\n",
       "      <td>1.332316</td>\n",
       "    </tr>\n",
       "    <tr>\n",
       "      <th>min</th>\n",
       "      <td>1.120000e+02</td>\n",
       "      <td>-20.000000</td>\n",
       "      <td>0.000000</td>\n",
       "      <td>0.000000</td>\n",
       "    </tr>\n",
       "    <tr>\n",
       "      <th>25%</th>\n",
       "      <td>2.335320e+05</td>\n",
       "      <td>3.000000</td>\n",
       "      <td>0.000000</td>\n",
       "      <td>0.000000</td>\n",
       "    </tr>\n",
       "    <tr>\n",
       "      <th>50%</th>\n",
       "      <td>5.461705e+05</td>\n",
       "      <td>46.000000</td>\n",
       "      <td>1.000000</td>\n",
       "      <td>0.000000</td>\n",
       "    </tr>\n",
       "    <tr>\n",
       "      <th>75%</th>\n",
       "      <td>9.572598e+05</td>\n",
       "      <td>332.000000</td>\n",
       "      <td>10.000000</td>\n",
       "      <td>1.000000</td>\n",
       "    </tr>\n",
       "    <tr>\n",
       "      <th>max</th>\n",
       "      <td>1.566958e+06</td>\n",
       "      <td>114052.000000</td>\n",
       "      <td>4385.000000</td>\n",
       "      <td>4.000000</td>\n",
       "    </tr>\n",
       "  </tbody>\n",
       "</table>\n",
       "</div>"
      ],
      "text/plain": [
       "        OwnerUserId  ReputationAtPostCreation  \\\n",
       "count  3.700000e+04              37000.000000   \n",
       "mean   6.113169e+05                545.968568   \n",
       "std    4.335216e+05               2222.474706   \n",
       "min    1.120000e+02                -20.000000   \n",
       "25%    2.335320e+05                  3.000000   \n",
       "50%    5.461705e+05                 46.000000   \n",
       "75%    9.572598e+05                332.000000   \n",
       "max    1.566958e+06             114052.000000   \n",
       "\n",
       "       OwnerUndeletedAnswerCountAtPostTime    OpenStatus  \n",
       "count                         37000.000000  37000.000000  \n",
       "mean                             21.147541      0.810811  \n",
       "std                              84.753640      1.332316  \n",
       "min                               0.000000      0.000000  \n",
       "25%                               0.000000      0.000000  \n",
       "50%                               1.000000      0.000000  \n",
       "75%                              10.000000      1.000000  \n",
       "max                            4385.000000      4.000000  "
      ]
     },
     "execution_count": 42,
     "metadata": {},
     "output_type": "execute_result"
    }
   ],
   "source": [
    "csv.describe()"
   ]
  },
  {
   "cell_type": "code",
   "execution_count": 43,
   "metadata": {
    "collapsed": false
   },
   "outputs": [
    {
     "data": {
      "text/plain": [
       "0    25000\n",
       "4     3000\n",
       "3     3000\n",
       "2     3000\n",
       "1     3000\n",
       "Name: OpenStatus, dtype: int64"
      ]
     },
     "execution_count": 43,
     "metadata": {},
     "output_type": "execute_result"
    }
   ],
   "source": [
    "csv.OpenStatus.value_counts()"
   ]
  },
  {
   "cell_type": "code",
   "execution_count": null,
   "metadata": {
    "collapsed": true
   },
   "outputs": [],
   "source": [
    "\n",
    "    "
   ]
  },
  {
   "cell_type": "code",
   "execution_count": 58,
   "metadata": {
    "collapsed": false
   },
   "outputs": [],
   "source": [
    "import matplotlib.pyplot as plt\n",
    "csv['TagCount'] = csv.Tag1.isnull().astype(int) + csv.Tag2.isnull().astype(int) +csv.Tag3.isnull().astype(int) +csv.Tag4.isnull().astype(int)+csv.Tag5.isnull().astype(int)"
   ]
  },
  {
   "cell_type": "code",
   "execution_count": 61,
   "metadata": {
    "collapsed": false
   },
   "outputs": [
    {
     "data": {
      "text/plain": [
       "array([[<matplotlib.axes._subplots.AxesSubplot object at 0x1372bdd30>,\n",
       "        <matplotlib.axes._subplots.AxesSubplot object at 0x12976d320>],\n",
       "       [<matplotlib.axes._subplots.AxesSubplot object at 0x11ed054a8>,\n",
       "        <matplotlib.axes._subplots.AxesSubplot object at 0x117f4e4e0>],\n",
       "       [<matplotlib.axes._subplots.AxesSubplot object at 0x1370972e8>,\n",
       "        <matplotlib.axes._subplots.AxesSubplot object at 0x1371b0c88>]], dtype=object)"
      ]
     },
     "execution_count": 61,
     "metadata": {},
     "output_type": "execute_result"
    },
    {
     "data": {
      "image/png": "[encoded data removed]",
      "text/plain": [
       "<matplotlib.figure.Figure at 0x1372dba58>"
      ]
     },
     "metadata": {},
     "output_type": "display_data"
    }
   ],
   "source": [
    "csv.hist()"
   ]
  },
  {
   "cell_type": "code",
   "execution_count": 84,
   "metadata": {
    "collapsed": false
   },
   "outputs": [
    {
     "data": {
      "text/plain": [
       "array([[<matplotlib.axes._subplots.AxesSubplot object at 0x1255437f0>,\n",
       "        <matplotlib.axes._subplots.AxesSubplot object at 0x126fcf7f0>],\n",
       "       [<matplotlib.axes._subplots.AxesSubplot object at 0x12701e208>,\n",
       "        <matplotlib.axes._subplots.AxesSubplot object at 0x127053f60>],\n",
       "       [<matplotlib.axes._subplots.AxesSubplot object at 0x126f191d0>,\n",
       "        <matplotlib.axes._subplots.AxesSubplot object at 0x1169bff28>]], dtype=object)"
      ]
     },
     "execution_count": 84,
     "metadata": {},
     "output_type": "execute_result"
    },
    {
     "data": {
      "image/png": "[encoded data removed]",
      "text/plain": [
       "<matplotlib.figure.Figure at 0x12557b470>"
      ]
     },
     "metadata": {},
     "output_type": "display_data"
    }
   ],
   "source": [
    "plt.hist(csv[csv['OpenStatus'] == ])"
   ]
  },
  {
   "cell_type": "code",
   "execution_count": 118,
   "metadata": {
    "collapsed": false
   },
   "outputs": [],
   "source": [
    "csv['LogReputation'] = np.log(csv.ReputationAtPostCreation)"
   ]
  },
  {
   "cell_type": "code",
   "execution_count": 85,
   "metadata": {
    "collapsed": true
   },
   "outputs": [],
   "source": [
    "from sklearn.tree import DecisionTreeClassifier"
   ]
  },
  {
   "cell_type": "code",
   "execution_count": 87,
   "metadata": {
    "collapsed": false
   },
   "outputs": [],
   "source": [
    "dtclf = DecisionTreeClassifier()"
   ]
  },
  {
   "cell_type": "code",
   "execution_count": 121,
   "metadata": {
    "collapsed": false
   },
   "outputs": [
    {
     "data": {
      "text/plain": [
       "DecisionTreeClassifier(class_weight=None, criterion='gini', max_depth=None,\n",
       "            max_features=None, max_leaf_nodes=None, min_samples_leaf=1,\n",
       "            min_samples_split=2, min_weight_fraction_leaf=0.0,\n",
       "            presort=False, random_state=None, splitter='best')"
      ]
     },
     "execution_count": 121,
     "metadata": {},
     "output_type": "execute_result"
    }
   ],
   "source": [
    "dtclf.fit(csv[['TagCount', 'ReputationAtPostCreation']], csv.OpenStatus)"
   ]
  },
  {
   "cell_type": "code",
   "execution_count": 122,
   "metadata": {
    "collapsed": false
   },
   "outputs": [
    {
     "data": {
      "text/plain": [
       "0.70964864864864863"
      ]
     },
     "execution_count": 122,
     "metadata": {},
     "output_type": "execute_result"
    }
   ],
   "source": [
    "dtclf.score(csv[['TagCount', 'ReputationAtPostCreation']], csv.OpenStatus)"
   ]
  },
  {
   "cell_type": "code",
   "execution_count": 112,
   "metadata": {
    "collapsed": false
   },
   "outputs": [],
   "source": [
    "from sklearn.grid_search import GridSearchCV"
   ]
  },
  {
   "cell_type": "code",
   "execution_count": 113,
   "metadata": {
    "collapsed": true
   },
   "outputs": [],
   "source": [
    "from sklearn.ensemble import AdaBoostClassifier"
   ]
  },
  {
   "cell_type": "code",
   "execution_count": 114,
   "metadata": {
    "collapsed": true
   },
   "outputs": [],
   "source": [
    "abclf = AdaBoostClassifier()"
   ]
  },
  {
   "cell_type": "code",
   "execution_count": 120,
   "metadata": {
    "collapsed": false
   },
   "outputs": [
    {
     "data": {
      "text/plain": [
       "AdaBoostClassifier(algorithm='SAMME.R', base_estimator=None,\n",
       "          learning_rate=1.0, n_estimators=50, random_state=None)"
      ]
     },
     "execution_count": 120,
     "metadata": {},
     "output_type": "execute_result"
    }
   ],
   "source": [
    "abclf.fit(csv[['TagCount', 'ReputationAtPostCreation']], csv.OpenStatus)"
   ]
  },
  {
   "cell_type": "code",
   "execution_count": 117,
   "metadata": {
    "collapsed": false
   },
   "outputs": [
    {
     "data": {
      "text/plain": [
       "0.67194594594594592"
      ]
     },
     "execution_count": 117,
     "metadata": {},
     "output_type": "execute_result"
    }
   ],
   "source": [
    "abclf.score(csv[['TagCount', 'ReputationAtPostCreation']], csv.OpenStatus)"
   ]
  },
  {
   "cell_type": "code",
   "execution_count": null,
   "metadata": {
    "collapsed": true
   },
   "outputs": [],
   "source": []
  }
 ],
 "metadata": {
  "anaconda-cloud": {},
  "kernelspec": {
   "display_name": "Python 3",
   "language": "python",
   "name": "python3"
  },
  "language_info": {
   "codemirror_mode": {
    "name": "ipython",
    "version": 3
   },
   "file_extension": ".py",
   "mimetype": "text/x-python",
   "name": "python",
   "nbconvert_exporter": "python",
   "pygments_lexer": "ipython3",
   "version": "3.5.1"
  }
 },
 "nbformat": 4,
 "nbformat_minor": 0
}
